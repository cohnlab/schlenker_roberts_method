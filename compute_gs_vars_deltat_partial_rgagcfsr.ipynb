{
 "cells": [
  {
   "cell_type": "code",
   "execution_count": 1,
   "metadata": {},
   "outputs": [],
   "source": [
    "from matplotlib import pyplot as plt\n",
    "import numpy as np\n",
    "import pandas as pd\n",
    "import xarray as xr\n",
    "import tqdm\n",
    "import os\n",
    "import re\n",
    "import copy\n",
    "import datetime\n",
    "import numba\n",
    "from numba import jit,prange"
   ]
  },
  {
   "cell_type": "markdown",
   "metadata": {},
   "source": [
    "### Setup"
   ]
  },
  {
   "cell_type": "code",
   "execution_count": 2,
   "metadata": {},
   "outputs": [
    {
     "name": "stdout",
     "output_type": "stream",
     "text": [
      "[2002, 2003, 2004, 2005, 2006, 2007, 2008]\n"
     ]
    }
   ],
   "source": [
    "infolder = \"D:/data/rgAgCFSR/regrid/\"\n",
    "\n",
    "calname = \"Sacks_ZARC_fill_fill_120d\"\n",
    "\n",
    "outfolder = \"rgagcfsr_computed_partial/\"+calname+\"/\"\n",
    "\n",
    "masterpref = \"AgCFSR_\"\n",
    "tempsuf = \"_tavg.nc4\"\n",
    "tmaxsuf = \"_tmax.nc4\"\n",
    "tminsuf = \"_tmin.nc4\"\n",
    "\n",
    "calfolder = \"bcagcfsr_calendars/\"+calname+\"/\"\n",
    "calsuf = \".crop.calendar.fill.nc\"\n",
    "planvar = \"plant.start\"\n",
    "harvvar = \"harvest.end\"\n",
    "\n",
    "mskfname = infolder+\"seamask.nc\"\n",
    "\n",
    "crops = [\"Soybeans\",\"Maize\",\"Cotton\"]\n",
    "# crops = [\"Maize\",\"Cotton\"]\n",
    "# crops = [\"Soybeans\"]\n",
    "\n",
    "alims = {\"Soybeans\":10.0, \"Maize\":10.0, \"Cotton\":15.0}\n",
    "blims = {\"Soybeans\":30.0, \"Maize\":29.0, \"Cotton\":32.0}\n",
    "clims = {\"Soybeans\":31.4, \"Maize\":29.9, \"Cotton\":34.3}\n",
    "flims = {\"Soybeans\":38.0, \"Maize\":38.0, \"Cotton\":38.0}\n",
    "\n",
    "# The basis of calculation will be harvest years\n",
    "# hyears = [2002]\n",
    "# hyears = [2003]\n",
    "# hyears = [2009]\n",
    "# hyears = [2009,2010,2011,2012,2013,2014]\n",
    "# hyears = [2010,2011,2012,2013,2014]\n",
    "hyears = list(range(2002,2008+1))\n",
    "# hyears = list(range(2002,2003+1))\n",
    "print(hyears)\n",
    "\n",
    "deltats = [0,1,2,3,4,5]\n"
   ]
  },
  {
   "cell_type": "markdown",
   "metadata": {},
   "source": [
    "### Defining functions"
   ]
  },
  {
   "cell_type": "code",
   "execution_count": 3,
   "metadata": {},
   "outputs": [],
   "source": [
    "# Opens and concatenates a harvest year with the equivalent planting year\n",
    "# def concat_clim(infolder,climpref,hyear):\n",
    "def concat_clim(infolder,masterpref,climsuf,hyear):\n",
    "    pyear = hyear - 1\n",
    "\n",
    "#     climharr = xr.open_dataarray(infolder+climpref+str(hyear)+\".nc\")\n",
    "#     climparr = xr.open_dataarray(infolder+climpref+str(pyear)+\".nc\")\n",
    "#     climharr = xr.open_dataarray(infolder+masterpref+str(hyear)+climsuf+\".nc\")\n",
    "#     climparr = xr.open_dataarray(infolder+masterpref+str(pyear)+climsuf+\".nc\")\n",
    "    climharr = xr.open_dataarray(infolder+masterpref+str(hyear)+climsuf, decode_times = False)\n",
    "    climparr = xr.open_dataarray(infolder+masterpref+str(pyear)+climsuf, decode_times = False)\n",
    "\n",
    "    climarr = xr.concat([climparr,climharr], dim = \"time\")\n",
    "    return climarr"
   ]
  },
  {
   "cell_type": "code",
   "execution_count": 4,
   "metadata": {},
   "outputs": [],
   "source": [
    "# Calculates AGDD for a single day (ascending numbers, constrained in both sides)\n",
    "@jit(nopython=True)\n",
    "def calc_agdd_day(Tmin,Tmax,Tlo,Thi):\n",
    "    res = 0.005 #Resolution (dt, in days) on which to evaluate the T sine curve\n",
    "\n",
    "    t = np.arange(0,1,res)\n",
    "    nt = t.shape[0]\n",
    "\n",
    "    Tamp = (Tmax-Tmin)/2.0\n",
    "    Tmed = (Tmax+Tmin)/2.0\n",
    "\n",
    "    T = Tmed + Tamp*np.sin(t*(2.0*np.pi/1))\n",
    "\n",
    "    gdd = np.sum(np.invert(np.isnan(\n",
    "        np.where((T>=Tlo)&(T<=Thi),T,np.nan)\n",
    "    ))*(T-Tlo))/nt\n",
    "\n",
    "    return gdd\n",
    "\n",
    "@jit(nopython=True)\n",
    "def calc_agdd_point(tmaxvec,tminvec,Tlo,Thi):\n",
    "    gdd = 0.0\n",
    "    for day in range(tminvec.shape[0]):\n",
    "        gdd = gdd + calc_agdd_day(tminvec[day],tmaxvec[day],Tlo,Thi)\n",
    "    return gdd"
   ]
  },
  {
   "cell_type": "code",
   "execution_count": 5,
   "metadata": {},
   "outputs": [],
   "source": [
    "# Calculates BGDD for a single day (descending numbers, constrained in both sides)\n",
    "@jit(nopython=True)\n",
    "def calc_bgdd_day(Tmin,Tmax,Tlo,Thi):\n",
    "    res = 0.005 #Resolution (dt, in days) on which to evaluate the T sine curve\n",
    "\n",
    "    t = np.arange(0,1,res)\n",
    "    nt = t.shape[0]\n",
    "\n",
    "    Tamp = (Tmax-Tmin)/2.0\n",
    "    Tmed = (Tmax+Tmin)/2.0\n",
    "\n",
    "    T = Tmed + Tamp*np.sin(t*(2.0*np.pi/1))\n",
    "\n",
    "    gdd = np.sum(np.invert(np.isnan(\n",
    "        np.where((T>=Tlo)&(T<=Thi),T,np.nan)\n",
    "    ))*(T-Thi))/nt\n",
    "\n",
    "    return gdd\n",
    "\n",
    "@jit(nopython=True)\n",
    "def calc_bgdd_point(tmaxvec,tminvec,Tlo,Thi):\n",
    "    gdd = 0.0\n",
    "    for day in range(tminvec.shape[0]):\n",
    "        gdd = gdd + calc_bgdd_day(tminvec[day],tmaxvec[day],Tlo,Thi)\n",
    "    return gdd"
   ]
  },
  {
   "cell_type": "code",
   "execution_count": 6,
   "metadata": {},
   "outputs": [],
   "source": [
    "# Calculates CGDD for a single day (ascending numbers, constrained just below)\n",
    "@jit(nopython=True)\n",
    "def calc_cgdd_day(Tmin,Tmax,Tlo):\n",
    "    res = 0.005 #Resolution (dt, in days) on which to evaluate the T sine curve\n",
    "\n",
    "    t = np.arange(0,1,res)\n",
    "    nt = t.shape[0]\n",
    "\n",
    "    Tamp = (Tmax-Tmin)/2.0\n",
    "    Tmed = (Tmax+Tmin)/2.0\n",
    "\n",
    "    T = Tmed + Tamp*np.sin(t*(2.0*np.pi/1))\n",
    "\n",
    "    gdd = np.sum(np.invert(np.isnan(\n",
    "        np.where((T>=Tlo),T,np.nan)\n",
    "    ))*(T-Tlo))/nt\n",
    "\n",
    "    return gdd\n",
    "\n",
    "@jit(nopython=True)\n",
    "def calc_cgdd_point(tmaxvec,tminvec,Tlo):\n",
    "    gdd = 0.0\n",
    "    for day in range(tminvec.shape[0]):\n",
    "        gdd = gdd + calc_cgdd_day(tminvec[day],tmaxvec[day],Tlo)\n",
    "    return gdd"
   ]
  },
  {
   "cell_type": "code",
   "execution_count": 7,
   "metadata": {},
   "outputs": [],
   "source": [
    "# Calculates everything for the growing season given numpy arrays. \n",
    "# Loops throught the points\n",
    "# Compiles with Numba parallel\n",
    "@jit(nopython=True, parallel = True)\n",
    "# @jit(nopython=True)\n",
    "def calc_all(planmat,harvmat,tempmat,tmaxmat,tminmat,\n",
    "             tempmeanmat,tmaxmeanmat,tminmeanmat,\n",
    "             trngmeanmat,ndaymat,\n",
    "             agddmat,bgddmat,cgddmat,fgddmat,\n",
    "             alim,blim,clim,flim):\n",
    "    for lati in prange(tempmat.shape[1]):\n",
    "        for lonj in range(tempmat.shape[2]):\n",
    "            if (np.isnan(planmat[lati,lonj])) or (np.isnan(tempmat[0,lati,lonj])):\n",
    "                continue\n",
    "            plan = int(planmat[lati,lonj])\n",
    "            harv = int(harvmat[lati,lonj])\n",
    "\n",
    "            tempvec = tempmat[plan:harv,lati,lonj]\n",
    "            tmaxvec = tmaxmat[plan:harv,lati,lonj]\n",
    "            tminvec = tminmat[plan:harv,lati,lonj]\n",
    "\n",
    "            tempmeanmat[lati,lonj] = np.nanmean(tempvec)\n",
    "            tmaxmeanmat[lati,lonj] = np.nanmean(tmaxvec)\n",
    "            tminmeanmat[lati,lonj] = np.nanmean(tminvec)\n",
    "            trngmeanmat[lati,lonj] = np.nanmean(tmaxvec - tminvec)\n",
    "            ndaymat[lati,lonj] = np.int64(harv-plan)\n",
    "\n",
    "            agddmat[lati,lonj] = calc_agdd_point(tmaxvec,tminvec,alim,blim)\n",
    "            bgddmat[lati,lonj] = calc_bgdd_point(tmaxvec,tminvec,blim,clim)\n",
    "            cgddmat[lati,lonj] = calc_cgdd_point(tmaxvec,tminvec,clim)\n",
    "            fgddmat[lati,lonj] = calc_agdd_point(tmaxvec,tminvec,clim,flim)"
   ]
  },
  {
   "cell_type": "markdown",
   "metadata": {},
   "source": [
    "### Begin main script"
   ]
  },
  {
   "cell_type": "code",
   "execution_count": 8,
   "metadata": {
    "scrolled": false
   },
   "outputs": [
    {
     "name": "stdout",
     "output_type": "stream",
     "text": [
      "Soybeans\n"
     ]
    },
    {
     "name": "stderr",
     "output_type": "stream",
     "text": [
      "\r",
      "  0%|                                                                                            | 0/7 [00:00<?, ?it/s]"
     ]
    },
    {
     "name": "stdout",
     "output_type": "stream",
     "text": [
      "Soybeans deltat = 0\n",
      "Soybeans deltat = 1\n",
      "Soybeans deltat = 2\n",
      "Soybeans deltat = 3\n",
      "Soybeans deltat = 4\n",
      "Soybeans deltat = 5\n"
     ]
    },
    {
     "name": "stderr",
     "output_type": "stream",
     "text": [
      "\r",
      " 14%|███████████▊                                                                       | 1/7 [03:37<21:42, 217.10s/it]"
     ]
    },
    {
     "name": "stdout",
     "output_type": "stream",
     "text": [
      "Soybeans deltat = 0\n",
      "Soybeans deltat = 1\n",
      "Soybeans deltat = 2\n",
      "Soybeans deltat = 3\n",
      "Soybeans deltat = 4\n",
      "Soybeans deltat = 5\n"
     ]
    },
    {
     "name": "stderr",
     "output_type": "stream",
     "text": [
      "\r",
      " 29%|███████████████████████▋                                                           | 2/7 [07:18<18:12, 218.53s/it]"
     ]
    },
    {
     "name": "stdout",
     "output_type": "stream",
     "text": [
      "Soybeans deltat = 0\n",
      "Soybeans deltat = 1\n",
      "Soybeans deltat = 2\n",
      "Soybeans deltat = 3\n",
      "Soybeans deltat = 4\n",
      "Soybeans deltat = 5\n"
     ]
    },
    {
     "name": "stderr",
     "output_type": "stream",
     "text": [
      "\r",
      " 43%|███████████████████████████████████▌                                               | 3/7 [10:59<14:37, 219.26s/it]"
     ]
    },
    {
     "name": "stdout",
     "output_type": "stream",
     "text": [
      "Soybeans deltat = 0\n",
      "Soybeans deltat = 1\n",
      "Soybeans deltat = 2\n",
      "Soybeans deltat = 3\n",
      "Soybeans deltat = 4\n",
      "Soybeans deltat = 5\n"
     ]
    },
    {
     "name": "stderr",
     "output_type": "stream",
     "text": [
      "\r",
      " 57%|███████████████████████████████████████████████▍                                   | 4/7 [14:41<11:00, 220.09s/it]"
     ]
    },
    {
     "name": "stdout",
     "output_type": "stream",
     "text": [
      "Soybeans deltat = 0\n",
      "Soybeans deltat = 1\n",
      "Soybeans deltat = 2\n",
      "Soybeans deltat = 3\n",
      "Soybeans deltat = 4\n",
      "Soybeans deltat = 5\n"
     ]
    },
    {
     "name": "stderr",
     "output_type": "stream",
     "text": [
      "\r",
      " 71%|███████████████████████████████████████████████████████████▎                       | 5/7 [18:24<07:21, 220.75s/it]"
     ]
    },
    {
     "name": "stdout",
     "output_type": "stream",
     "text": [
      "Soybeans deltat = 0\n",
      "Soybeans deltat = 1\n",
      "Soybeans deltat = 2\n",
      "Soybeans deltat = 3\n",
      "Soybeans deltat = 4\n",
      "Soybeans deltat = 5\n"
     ]
    },
    {
     "name": "stderr",
     "output_type": "stream",
     "text": [
      "\r",
      " 86%|███████████████████████████████████████████████████████████████████████▏           | 6/7 [21:59<03:38, 218.99s/it]"
     ]
    },
    {
     "name": "stdout",
     "output_type": "stream",
     "text": [
      "Soybeans deltat = 0\n",
      "Soybeans deltat = 1\n",
      "Soybeans deltat = 2\n",
      "Soybeans deltat = 3\n",
      "Soybeans deltat = 4\n",
      "Soybeans deltat = 5\n"
     ]
    },
    {
     "name": "stderr",
     "output_type": "stream",
     "text": [
      "100%|███████████████████████████████████████████████████████████████████████████████████| 7/7 [25:38<00:00, 219.85s/it]\n"
     ]
    },
    {
     "name": "stdout",
     "output_type": "stream",
     "text": [
      "Maize\n"
     ]
    },
    {
     "name": "stderr",
     "output_type": "stream",
     "text": [
      "\r",
      "  0%|                                                                                            | 0/7 [00:00<?, ?it/s]"
     ]
    },
    {
     "name": "stdout",
     "output_type": "stream",
     "text": [
      "Maize deltat = 0\n",
      "Maize deltat = 1\n",
      "Maize deltat = 2\n",
      "Maize deltat = 3\n",
      "Maize deltat = 4\n",
      "Maize deltat = 5\n"
     ]
    },
    {
     "name": "stderr",
     "output_type": "stream",
     "text": [
      "\r",
      " 14%|███████████▊                                                                       | 1/7 [03:38<21:53, 218.87s/it]"
     ]
    },
    {
     "name": "stdout",
     "output_type": "stream",
     "text": [
      "Maize deltat = 0\n",
      "Maize deltat = 1\n",
      "Maize deltat = 2\n",
      "Maize deltat = 3\n",
      "Maize deltat = 4\n",
      "Maize deltat = 5\n"
     ]
    },
    {
     "name": "stderr",
     "output_type": "stream",
     "text": [
      "\r",
      " 29%|███████████████████████▋                                                           | 2/7 [07:23<18:22, 220.47s/it]"
     ]
    },
    {
     "name": "stdout",
     "output_type": "stream",
     "text": [
      "Maize deltat = 0\n",
      "Maize deltat = 1\n",
      "Maize deltat = 2\n",
      "Maize deltat = 3\n",
      "Maize deltat = 4\n",
      "Maize deltat = 5\n"
     ]
    },
    {
     "name": "stderr",
     "output_type": "stream",
     "text": [
      "\r",
      " 43%|███████████████████████████████████▌                                               | 3/7 [11:00<14:38, 219.52s/it]"
     ]
    },
    {
     "name": "stdout",
     "output_type": "stream",
     "text": [
      "Maize deltat = 0\n",
      "Maize deltat = 1\n",
      "Maize deltat = 2\n",
      "Maize deltat = 3\n",
      "Maize deltat = 4\n",
      "Maize deltat = 5\n"
     ]
    },
    {
     "name": "stderr",
     "output_type": "stream",
     "text": [
      "\r",
      " 57%|███████████████████████████████████████████████▍                                   | 4/7 [14:43<11:02, 220.69s/it]"
     ]
    },
    {
     "name": "stdout",
     "output_type": "stream",
     "text": [
      "Maize deltat = 0\n",
      "Maize deltat = 1\n",
      "Maize deltat = 2\n",
      "Maize deltat = 3\n",
      "Maize deltat = 4\n",
      "Maize deltat = 5\n"
     ]
    },
    {
     "name": "stderr",
     "output_type": "stream",
     "text": [
      "\r",
      " 71%|███████████████████████████████████████████████████████████▎                       | 5/7 [18:14<07:15, 217.56s/it]"
     ]
    },
    {
     "name": "stdout",
     "output_type": "stream",
     "text": [
      "Maize deltat = 0\n",
      "Maize deltat = 1\n",
      "Maize deltat = 2\n",
      "Maize deltat = 3\n",
      "Maize deltat = 4\n",
      "Maize deltat = 5\n"
     ]
    },
    {
     "name": "stderr",
     "output_type": "stream",
     "text": [
      "\r",
      " 86%|███████████████████████████████████████████████████████████████████████▏           | 6/7 [21:49<03:37, 217.04s/it]"
     ]
    },
    {
     "name": "stdout",
     "output_type": "stream",
     "text": [
      "Maize deltat = 0\n",
      "Maize deltat = 1\n",
      "Maize deltat = 2\n",
      "Maize deltat = 3\n",
      "Maize deltat = 4\n",
      "Maize deltat = 5\n"
     ]
    },
    {
     "name": "stderr",
     "output_type": "stream",
     "text": [
      "100%|███████████████████████████████████████████████████████████████████████████████████| 7/7 [25:37<00:00, 219.60s/it]\n"
     ]
    },
    {
     "name": "stdout",
     "output_type": "stream",
     "text": [
      "Cotton\n"
     ]
    },
    {
     "name": "stderr",
     "output_type": "stream",
     "text": [
      "\r",
      "  0%|                                                                                            | 0/7 [00:00<?, ?it/s]"
     ]
    },
    {
     "name": "stdout",
     "output_type": "stream",
     "text": [
      "Cotton deltat = 0\n",
      "Cotton deltat = 1\n",
      "Cotton deltat = 2\n",
      "Cotton deltat = 3\n",
      "Cotton deltat = 4\n",
      "Cotton deltat = 5\n"
     ]
    },
    {
     "name": "stderr",
     "output_type": "stream",
     "text": [
      "\r",
      " 14%|███████████▊                                                                       | 1/7 [03:42<22:13, 222.26s/it]"
     ]
    },
    {
     "name": "stdout",
     "output_type": "stream",
     "text": [
      "Cotton deltat = 0\n",
      "Cotton deltat = 1\n",
      "Cotton deltat = 2\n",
      "Cotton deltat = 3\n",
      "Cotton deltat = 4\n",
      "Cotton deltat = 5\n"
     ]
    },
    {
     "name": "stderr",
     "output_type": "stream",
     "text": [
      "\r",
      " 29%|███████████████████████▋                                                           | 2/7 [07:25<18:33, 222.62s/it]"
     ]
    },
    {
     "name": "stdout",
     "output_type": "stream",
     "text": [
      "Cotton deltat = 0\n",
      "Cotton deltat = 1\n",
      "Cotton deltat = 2\n",
      "Cotton deltat = 3\n",
      "Cotton deltat = 4\n",
      "Cotton deltat = 5\n"
     ]
    },
    {
     "name": "stderr",
     "output_type": "stream",
     "text": [
      "\r",
      " 43%|███████████████████████████████████▌                                               | 3/7 [11:03<14:45, 221.27s/it]"
     ]
    },
    {
     "name": "stdout",
     "output_type": "stream",
     "text": [
      "Cotton deltat = 0\n",
      "Cotton deltat = 1\n",
      "Cotton deltat = 2\n",
      "Cotton deltat = 3\n",
      "Cotton deltat = 4\n",
      "Cotton deltat = 5\n"
     ]
    },
    {
     "name": "stderr",
     "output_type": "stream",
     "text": [
      "\r",
      " 57%|███████████████████████████████████████████████▍                                   | 4/7 [14:44<11:03, 221.13s/it]"
     ]
    },
    {
     "name": "stdout",
     "output_type": "stream",
     "text": [
      "Cotton deltat = 0\n",
      "Cotton deltat = 1\n",
      "Cotton deltat = 2\n",
      "Cotton deltat = 3\n",
      "Cotton deltat = 4\n",
      "Cotton deltat = 5\n"
     ]
    },
    {
     "name": "stderr",
     "output_type": "stream",
     "text": [
      "\r",
      " 71%|███████████████████████████████████████████████████████████▎                       | 5/7 [18:25<07:21, 220.92s/it]"
     ]
    },
    {
     "name": "stdout",
     "output_type": "stream",
     "text": [
      "Cotton deltat = 0\n",
      "Cotton deltat = 1\n",
      "Cotton deltat = 2\n",
      "Cotton deltat = 3\n",
      "Cotton deltat = 4\n",
      "Cotton deltat = 5\n"
     ]
    },
    {
     "name": "stderr",
     "output_type": "stream",
     "text": [
      "\r",
      " 86%|███████████████████████████████████████████████████████████████████████▏           | 6/7 [22:02<03:40, 220.02s/it]"
     ]
    },
    {
     "name": "stdout",
     "output_type": "stream",
     "text": [
      "Cotton deltat = 0\n",
      "Cotton deltat = 1\n",
      "Cotton deltat = 2\n",
      "Cotton deltat = 3\n",
      "Cotton deltat = 4\n",
      "Cotton deltat = 5\n"
     ]
    },
    {
     "name": "stderr",
     "output_type": "stream",
     "text": [
      "100%|███████████████████████████████████████████████████████████████████████████████████| 7/7 [25:43<00:00, 220.54s/it]\n"
     ]
    }
   ],
   "source": [
    "# Create output folder\n",
    "if not os.path.exists(outfolder): os.makedirs(outfolder, exist_ok=True)\n",
    "\n",
    "# Read the mask\n",
    "mskarr = xr.open_dataarray(mskfname)\n",
    "    \n",
    "# crop = crops[0]\n",
    "for crop in crops:\n",
    "    print(crop)\n",
    "\n",
    "    # Open calendar and convert it to two-year based indexes. FIXME: Ignoring leap years here\n",
    "    caldata = xr.open_dataset(calfolder+crop+calsuf)\n",
    "    planarr = caldata[planvar]\n",
    "    harvarr = caldata[harvvar]\n",
    "    harvarr = xr.where(harvarr < planarr,harvarr + 365,harvarr) - 1 \n",
    "\n",
    "    # Define DD limits\n",
    "    alim = alims[crop]\n",
    "    blim = blims[crop]\n",
    "    clim = clims[crop]\n",
    "    flim = flims[crop]\n",
    "\n",
    "\n",
    "            #FIXME: Loop here\n",
    "#     hyear = hyears[0]\n",
    "#     deltat = deltats[0]\n",
    "    for hyear in tqdm.tqdm(hyears):\n",
    "        for deltat in deltats:\n",
    "            print(crop + \" deltat = \" + str(deltat))\n",
    "            # Open the climate arrays, concatenating them\n",
    "            temparr = concat_clim(infolder,masterpref,tempsuf,hyear) + deltat\n",
    "            tmaxarr = concat_clim(infolder,masterpref,tmaxsuf,hyear) + deltat\n",
    "            tminarr = concat_clim(infolder,masterpref,tminsuf,hyear) + deltat\n",
    "\n",
    "            temparr = temparr.where(mskarr == 1)\n",
    "            tmaxarr = tmaxarr.where(mskarr == 1)\n",
    "            tminarr = tminarr.where(mskarr == 1)\n",
    "\n",
    "            # Preallocate the arrays that will be filled\n",
    "#             lldims = (\"latitude\",\"longitude\")\n",
    "            lldims = (\"lat\",\"lon\")\n",
    "            coords = [(i,temparr.coords[i].data,temparr.coords[i].attrs) for i in lldims] # Tuples with lat and lon dimension specs\n",
    "\n",
    "            # 2D arrays\n",
    "            tempmean = xr.DataArray(coords = coords, name = \"tempmean\")\n",
    "            tmaxmean = xr.DataArray(coords = coords, name = \"tmaxmean\")\n",
    "            tminmean = xr.DataArray(coords = coords, name = \"tminmean\")\n",
    "\n",
    "            trngmean = xr.DataArray(coords = coords, name = \"trngmean\")\n",
    "\n",
    "            ndayarr = xr.DataArray(coords = coords, name = \"ndays\")\n",
    "\n",
    "            agddarr = xr.DataArray(coords = coords, name = \"agdd\")\n",
    "            bgddarr = xr.DataArray(coords = coords, name = \"bgdd\")\n",
    "            cgddarr = xr.DataArray(coords = coords, name = \"cgdd\")\n",
    "            fgddarr = xr.DataArray(coords = coords, name = \"fgdd\")\n",
    "\n",
    "            # This basically creates pointers to the numpy arrays inside the xr.Dataarrays\n",
    "            # We need those for numba to work. An alternative would be passing the .data in the function call\n",
    "            planmat = planarr.data\n",
    "            harvmat = harvarr.data\n",
    "\n",
    "            tempmat = temparr.data\n",
    "            tmaxmat = tmaxarr.data\n",
    "            tminmat = tminarr.data\n",
    "\n",
    "            tempmeanmat = tempmean.data\n",
    "            tmaxmeanmat = tmaxmean.data\n",
    "            tminmeanmat = tminmean.data\n",
    "\n",
    "            trngmeanmat = trngmean.data\n",
    "\n",
    "            ndaymat = ndayarr.data\n",
    "\n",
    "            agddmat = agddarr.data\n",
    "            bgddmat = bgddarr.data\n",
    "            cgddmat = cgddarr.data\n",
    "            fgddmat = fgddarr.data\n",
    "\n",
    "\n",
    "\n",
    "            # Calculates everything.\n",
    "            calc_all(planmat,harvmat,tempmat,tmaxmat,tminmat,\n",
    "                         tempmeanmat,tmaxmeanmat,tminmeanmat,\n",
    "                         trngmeanmat,ndaymat,\n",
    "                         agddmat,bgddmat,cgddmat,fgddmat,\n",
    "                         alim,blim,clim,flim)\n",
    "\n",
    "\n",
    "            # Merge everything in a single Dataset\n",
    "            #         outdata = xr.merge([tempmean,tmaxmean,tminmean,trngmean,ndayarr,tempdist,tempgdds])\n",
    "            outdata = xr.merge([tempmean,tmaxmean,tminmean,trngmean,ndayarr,agddarr,bgddarr,cgddarr,fgddarr])\n",
    "            outdata.attrs['Crop'] = crop\n",
    "            outdata.attrs['harvest_year'] = hyear\n",
    "            outdata.attrs['calendar_path'] = calfolder+crop+calsuf\n",
    "            outdata.attrs['climdata_path'] = infolder\n",
    "            #         outdata.attrs['climdata_ex_path'] = infolder+temppref+str(hyear)+\".nc\"\n",
    "\n",
    "            # Write output\n",
    "            outfname = outfolder + crop + \".computed.deltat.\" + str(deltat) + \".\" + str(hyear) + \".nc\"\n",
    "            outdata.to_netcdf(outfname,\n",
    "                      engine = \"netcdf4\")"
   ]
  },
  {
   "cell_type": "code",
   "execution_count": 9,
   "metadata": {},
   "outputs": [
    {
     "data": {
      "text/plain": [
       "5.000000000000001"
      ]
     },
     "execution_count": 9,
     "metadata": {},
     "output_type": "execute_result"
    }
   ],
   "source": [
    "Tmax = 25\n",
    "Tmin = 15\n",
    "Tlo = 15\n",
    "Thi = 25\n",
    "\n",
    "\n",
    "res = 0.005 #Resolution (dt, in days) on which to evaluate the T sine curve\n",
    "\n",
    "t = np.arange(0,1,res)\n",
    "nt = t.shape[0]\n",
    "\n",
    "Tamp = (Tmax-Tmin)/2.0\n",
    "Tmed = (Tmax+Tmin)/2.0\n",
    "\n",
    "T = Tmed + Tamp*np.sin(t*(2.0*np.pi/1))\n",
    "\n",
    "gdd = np.sum(np.invert(np.isnan(\n",
    "    np.where((T>=Tlo)&(T<=Thi),T,np.nan)\n",
    "))*(T-Tlo))/nt\n",
    "\n",
    "gdd"
   ]
  },
  {
   "cell_type": "code",
   "execution_count": 10,
   "metadata": {},
   "outputs": [],
   "source": [
    "# lati = 260\n",
    "# lonj = 150\n",
    "# planmat[lati,lonj]"
   ]
  },
  {
   "cell_type": "code",
   "execution_count": 11,
   "metadata": {},
   "outputs": [],
   "source": [
    "# calc_all(planmat,harvmat,tempmat,tmaxmat,tminmat,\n",
    "#              tempmeanmat,tmaxmeanmat,tminmeanmat,\n",
    "#              trngmeanmat,ndaymat,\n",
    "#              agddmat,bgddmat,cgddmat,fgddmat,\n",
    "#              alim,blim,clim,flim)"
   ]
  },
  {
   "cell_type": "code",
   "execution_count": 12,
   "metadata": {},
   "outputs": [],
   "source": [
    "# # Calculates everything for the growing season given numpy arrays. \n",
    "# # Loops throught the points and calculates both distribution and regular gs means\n",
    "# # Compiles with Numba parallel\n",
    "# @jit(nopython=True, parallel = True)\n",
    "# # @jit(nopython=True)\n",
    "# def calc_all(planmat,harvmat,tempmat,tmaxmat,tminmat,\n",
    "#              tempmeanmat,tmaxmeanmat,tminmeanmat,\n",
    "#              trngmeanmat,ndaymat,\n",
    "#              agddmat,bgddmat,cgddmat,fgddmat,\n",
    "#              alim,blim,clim,flim):\n",
    "#     for lati in prange(tempmat.shape[1]):\n",
    "#         for lonj in range(tempmat.shape[2]):\n",
    "#             if (np.isnan(planmat[lati,lonj])) or (np.isnan(tempmat[0,lati,lonj])):\n",
    "#                 continue\n",
    "#             plan = int(planmat[lati,lonj])\n",
    "#             harv = int(harvmat[lati,lonj])\n",
    "\n",
    "#             tempvec = tempmat[plan:harv,lati,lonj]\n",
    "#             tmaxvec = tmaxmat[plan:harv,lati,lonj]\n",
    "#             tminvec = tminmat[plan:harv,lati,lonj]\n",
    "\n",
    "#             tempmeanmat[lati,lonj] = np.nanmean(tempvec)\n",
    "#             tmaxmeanmat[lati,lonj] = np.nanmean(tmaxvec)\n",
    "#             tminmeanmat[lati,lonj] = np.nanmean(tminvec)\n",
    "#             trngmeanmat[lati,lonj] = np.nanmean(tmaxvec - tminvec)\n",
    "#             ndaymat[lati,lonj] = np.int64(harv-plan)\n",
    "\n",
    "#             agddmat[lati,lonj] = calc_agdd_point(tmaxvec,tminvec,alim,blim)\n",
    "#             bgddmat[lati,lonj] = calc_bgdd_point(tmaxvec,tminvec,blim,clim)\n",
    "#             cgddmat[lati,lonj] = calc_cgdd_point(tmaxvec,tminvec,clim)\n",
    "#             fgddmat[lati,lonj] = calc_agdd_point(tmaxvec,tminvec,clim,flim)"
   ]
  },
  {
   "cell_type": "code",
   "execution_count": 13,
   "metadata": {},
   "outputs": [],
   "source": [
    "# # Create output folder\n",
    "# if not os.path.exists(outfolder): os.makedirs(outfolder, exist_ok=True)\n",
    "\n",
    "# # Read the mask\n",
    "# mskarr = xr.open_dataarray(mskfname)\n",
    "    \n",
    "# crop = crops[0]\n",
    "# # for crop in crops:\n",
    "# print(crop)\n",
    "\n",
    "# # Open calendar and convert it to two-year based indexes. FIXME: Ignoring leap years here\n",
    "# caldata = xr.open_dataset(calfolder+crop+calsuf)\n",
    "# planarr = caldata[planvar]\n",
    "# harvarr = caldata[harvvar]\n",
    "# harvarr = xr.where(harvarr < planarr,harvarr + 365,harvarr) - 1 \n",
    "\n",
    "# # Define DD limits\n",
    "# alim = alims[crop]\n",
    "# blim = blims[crop]\n",
    "# clim = clims[crop]\n",
    "# flim = flims[crop]\n",
    "\n",
    "\n",
    "#         #FIXME: Loop here\n",
    "# hyear = hyears[0]\n",
    "# deltat = deltats[0]\n",
    "        \n",
    "# print(crop + \" deltat = \" + str(deltat))\n",
    "# # Open the climate arrays, concatenating them\n",
    "# temparr = concat_clim(infolder,masterpref,tempsuf,hyear) + deltat\n",
    "# tmaxarr = concat_clim(infolder,masterpref,tmaxsuf,hyear) + deltat\n",
    "# tminarr = concat_clim(infolder,masterpref,tminsuf,hyear) + deltat\n",
    "\n",
    "# temparr = temparr.where(mskarr == 1)\n",
    "# tmaxarr = tmaxarr.where(mskarr == 1)\n",
    "# tminarr = tminarr.where(mskarr == 1)\n",
    "\n",
    "# # Generate a vector of lower T bounds to use as metadata and speed up computation\n",
    "# Tlos = np.arange(Tlo,Thi,Tint)\n",
    "\n",
    "# # Preallocate the arrays that will be filled\n",
    "# #             lldims = (\"latitude\",\"longitude\")\n",
    "# lldims = (\"lat\",\"lon\")\n",
    "# coords = [(i,temparr.coords[i].data,temparr.coords[i].attrs) for i in lldims] # Tuples with lat and lon dimension specs\n",
    "\n",
    "# # 2D arrays\n",
    "# tempmean = xr.DataArray(coords = coords, name = \"tempmean\")\n",
    "# tmaxmean = xr.DataArray(coords = coords, name = \"tmaxmean\")\n",
    "# tminmean = xr.DataArray(coords = coords, name = \"tminmean\")\n",
    "\n",
    "# trngmean = xr.DataArray(coords = coords, name = \"trngmean\")\n",
    "\n",
    "# ndayarr = xr.DataArray(coords = coords, name = \"ndays\")\n",
    "\n",
    "# agddarr = xr.DataArray(coords = coords, name = \"agdd\")\n",
    "# bgddarr = xr.DataArray(coords = coords, name = \"bgdd\")\n",
    "# cgddarr = xr.DataArray(coords = coords, name = \"cgdd\")\n",
    "# fgddarr = xr.DataArray(coords = coords, name = \"fgdd\")\n",
    "\n",
    "# # This basically creates pointers to the numpy arrays inside the xr.Dataarrays\n",
    "# # We need those for numba to work. An alternative would be passing the .data in the function call\n",
    "# planmat = planarr.data\n",
    "# harvmat = harvarr.data\n",
    "\n",
    "# tempmat = temparr.data\n",
    "# tmaxmat = tmaxarr.data\n",
    "# tminmat = tminarr.data\n",
    "\n",
    "# tempmeanmat = tempmean.data\n",
    "# tmaxmeanmat = tmaxmean.data\n",
    "# tminmeanmat = tminmean.data\n",
    "\n",
    "# trngmeanmat = trngmean.data\n",
    "\n",
    "# ndaymat = ndayarr.data\n",
    "\n",
    "# agddmat = agddarr.data\n",
    "# bgddmat = bgddarr.data\n",
    "# cgddmat = cgddarr.data\n",
    "# fgddmat = fgddarr.data\n",
    "\n",
    "\n",
    "\n",
    "# # Calculates everything.\n",
    "# calc_all(planmat,harvmat,tempmat,tmaxmat,tminmat,\n",
    "#              tempmeanmat,tmaxmeanmat,tminmeanmat,\n",
    "#              trngmeanmat,ndaymat,\n",
    "#              agddmat,bgddmat,cgddmat,fgddmat,\n",
    "#              alim,blim,clim,flim)\n",
    "\n",
    "\n",
    "# # Merge everything in a single Dataset\n",
    "# #         outdata = xr.merge([tempmean,tmaxmean,tminmean,trngmean,ndayarr,tempdist,tempgdds])\n",
    "# outdata = xr.merge([tempmean,tmaxmean,tminmean,trngmean,ndayarr,agddarr,bgddarr,cgddarr,fgddarr])\n",
    "# outdata.attrs['Crop'] = crop\n",
    "# outdata.attrs['harvest_year'] = hyear\n",
    "# outdata.attrs['calendar_path'] = calfolder+crop+calsuf\n",
    "# outdata.attrs['climdata_path'] = infolder\n",
    "# #         outdata.attrs['climdata_ex_path'] = infolder+temppref+str(hyear)+\".nc\"\n",
    "\n",
    "# # Write output\n",
    "# outfname = outfolder + crop + \".computed.deltat.\" + str(deltat) + \".\" + str(hyear) + \".nc\"\n",
    "# outdata.to_netcdf(outfname,\n",
    "#           engine = \"netcdf4\")"
   ]
  },
  {
   "cell_type": "code",
   "execution_count": 14,
   "metadata": {},
   "outputs": [],
   "source": [
    "# outdata[\"agdd\"].plot()"
   ]
  },
  {
   "cell_type": "code",
   "execution_count": 15,
   "metadata": {},
   "outputs": [],
   "source": [
    "# calc_gdd_point(tmaxvec,tminvec,Tlos)"
   ]
  },
  {
   "cell_type": "code",
   "execution_count": 16,
   "metadata": {},
   "outputs": [],
   "source": [
    "# These plots are good for understanding the distribution of T during the day\n",
    "# Tl1 = 15\n",
    "# Tl2 = Tl1 + 1\n",
    "# l =(np.invert(np.isnan(\n",
    "#             np.where((T>=Tl1) & (T<=Tl2) ,T,np.nan)\n",
    "#         )))\n",
    "# print(np.sum(l)/nt)\n",
    "\n",
    "# plt.subplot(2, 1, 1)\n",
    "# plt.plot(t,T)\n",
    "# plt.axhline(y=Tl1)\n",
    "# plt.axhline(y=Tl2)\n",
    "# plt.ylim((10,30))\n",
    "# plt.subplot(2, 1, 2)\n",
    "# plt.plot(t,l)\n",
    "# plt.show()\n",
    "\n",
    "# Tmin = 15\n",
    "# Tmax = 25\n",
    "# Tlo = -5.0\n",
    "# Thi = 50.0\n",
    "# Tint = 1.0\n",
    "# plt.subplot(1, 2, 1)\n",
    "# plt.plot(t,T,)\n",
    "# plt.ylim((10,30))\n",
    "# plt.subplot(1, 2, 2)\n",
    "# plt.plot(calc_dist_point(Tmin,Tmax,Tlo,Thi,Tint),Tl1s)\n",
    "# plt.ylim((10,30))\n",
    "# plt.show()"
   ]
  }
 ],
 "metadata": {
  "kernelspec": {
   "display_name": "Python 3",
   "language": "python",
   "name": "python3"
  },
  "language_info": {
   "codemirror_mode": {
    "name": "ipython",
    "version": 3
   },
   "file_extension": ".py",
   "mimetype": "text/x-python",
   "name": "python",
   "nbconvert_exporter": "python",
   "pygments_lexer": "ipython3",
   "version": "3.7.4"
  }
 },
 "nbformat": 4,
 "nbformat_minor": 2
}
