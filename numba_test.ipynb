{
 "cells": [
  {
   "cell_type": "code",
   "execution_count": 4,
   "metadata": {},
   "outputs": [],
   "source": [
    "from matplotlib import pyplot as plt\n",
    "import numpy as np\n",
    "import pandas as pd\n",
    "import xarray as xr\n",
    "import tqdm\n",
    "import numba\n",
    "from numba import jit"
   ]
  },
  {
   "cell_type": "code",
   "execution_count": 14,
   "metadata": {},
   "outputs": [],
   "source": [
    "infname = \"C:/repos/globiom_clim_extract/input_cmip/CMIP.BCC.BCC-CSM2-MR.historical.Amon.gn.nc\""
   ]
  },
  {
   "cell_type": "code",
   "execution_count": 32,
   "metadata": {},
   "outputs": [
    {
     "data": {
      "text/plain": [
       "(1, 480, 160, 320)"
      ]
     },
     "execution_count": 32,
     "metadata": {},
     "output_type": "execute_result"
    }
   ],
   "source": [
    "data = xr.open_dataarray(infname)\n",
    "arr = data.data\n",
    "arr.shape"
   ]
  },
  {
   "cell_type": "code",
   "execution_count": 28,
   "metadata": {},
   "outputs": [
    {
     "data": {
      "text/plain": [
       "array([0, 1, 2, 3, 4])"
      ]
     },
     "execution_count": 28,
     "metadata": {},
     "output_type": "execute_result"
    }
   ],
   "source": [
    "arr = np.arange(5)\n",
    "arr"
   ]
  },
  {
   "cell_type": "code",
   "execution_count": 33,
   "metadata": {},
   "outputs": [],
   "source": [
    "@jit(nopython=True) # Set \"nopython\" mode for best performance, equivalent to @njit\n",
    "def go_fast(arr): # Function is compiled to machine code when called the first time\n",
    "    out = arr\n",
    "    for i in range(arr.shape[0]):  \n",
    "        for j in range(arr.shape[1]):  \n",
    "            for k in range(arr.shape[2]):  \n",
    "                for l in range(arr.shape[3]):  \n",
    "                    out[i,j,k,l] = arr[i,j,k,l]*2\n",
    "    return out              # Numba likes NumPy broadcasting"
   ]
  },
  {
   "cell_type": "code",
   "execution_count": 24,
   "metadata": {},
   "outputs": [
    {
     "data": {
      "text/plain": [
       "range(0, 479)"
      ]
     },
     "execution_count": 24,
     "metadata": {},
     "output_type": "execute_result"
    }
   ],
   "source": [
    "range(arr.shape[1]-1)"
   ]
  },
  {
   "cell_type": "code",
   "execution_count": 35,
   "metadata": {},
   "outputs": [
    {
     "name": "stdout",
     "output_type": "stream",
     "text": [
      "[[[[ 976.2688   976.188    976.07983 ...  976.5454   976.44336\n",
      "     976.3672 ]\n",
      "   [ 979.23236  978.98553  978.7408  ...  979.97107  979.72327\n",
      "     979.4849 ]\n",
      "   [ 981.685    981.3039   980.9275  ...  982.9021   982.4675\n",
      "     982.08075]\n",
      "   ...\n",
      "   [ 964.24084  964.24756  964.2643  ...  964.27765  964.26465\n",
      "     964.24164]\n",
      "   [ 965.7704   965.7771   965.77545 ...  965.68536  965.7172\n",
      "     965.7453 ]\n",
      "   [ 967.37024  967.39795  967.42706 ...  967.3574   967.3608\n",
      "     967.36414]]\n",
      "\n",
      "  [[ 948.88556  948.95874  948.5761  ...  949.3883   949.12317\n",
      "     949.01355]\n",
      "   [ 950.18054  949.8776   949.58466 ...  951.15436  950.80286\n",
      "     950.505  ]\n",
      "   [ 950.5368   950.0443   949.5131  ...  952.17285  951.59515\n",
      "     951.0521 ]\n",
      "   ...\n",
      "   [ 964.7167   964.7731   964.8417  ...  964.57465  964.60205\n",
      "     964.6521 ]\n",
      "   [ 967.4611   967.5094   967.57605 ...  967.2707   967.3454\n",
      "     967.4073 ]\n",
      "   [ 969.0947   969.1613   969.23065 ...  969.0807   969.08295\n",
      "     969.0852 ]]\n",
      "\n",
      "  [[ 893.9405   893.84515  893.77515 ...  894.4173   894.33167\n",
      "     894.14764]\n",
      "   [ 897.96735  897.6265   897.4882  ...  898.6356   898.3906\n",
      "     897.95105]\n",
      "   [ 900.7069   900.07745  899.75494 ...  902.19025  901.7678\n",
      "     900.96497]\n",
      "   ...\n",
      "   [ 982.414    982.4315   982.3865  ...  982.4335   982.4017\n",
      "     982.36646]\n",
      "   [ 984.251    984.28204  984.3292  ...  984.1816   984.2105\n",
      "     984.23175]\n",
      "   [ 984.64545  984.66003  984.6757  ...  984.64825  984.6467\n",
      "     984.6452 ]]\n",
      "\n",
      "  ...\n",
      "\n",
      "  [[ 923.358    923.1488   922.9889  ...  923.82074  923.5796\n",
      "     923.4313 ]\n",
      "   [ 928.2886   927.89026  927.57715 ...  929.53235  929.10834\n",
      "     928.7136 ]\n",
      "   [ 930.9977   930.3216   929.64606 ...  933.08105  932.3814\n",
      "     931.6826 ]\n",
      "   ...\n",
      "   [1027.9161  1027.8745  1027.8553  ... 1028.0206  1028.0126\n",
      "    1027.9828 ]\n",
      "   [1026.8241  1026.7765  1026.7025  ... 1026.9795  1026.9213\n",
      "    1026.8684 ]\n",
      "   [1026.2817  1026.214   1026.144   ... 1026.2937  1026.2922\n",
      "    1026.2908 ]]\n",
      "\n",
      "  [[ 970.7969   970.7299   970.6671  ...  971.1347   971.07367\n",
      "     970.949  ]\n",
      "   [ 969.17194  968.9698   968.8052  ...  969.8652   969.6355\n",
      "     969.4266 ]\n",
      "   [ 967.90356  967.53595  967.23694 ...  968.9649   968.6032\n",
      "     968.25116]\n",
      "   ...\n",
      "   [ 998.40405  998.4252   998.45435 ...  998.2751   998.3056\n",
      "     998.3684 ]\n",
      "   [ 996.72876  996.7645   996.8215  ...  996.55597  996.62244\n",
      "     996.68146]\n",
      "   [ 994.94696  995.0361   995.1276  ...  994.9468   994.94336\n",
      "     994.93994]]\n",
      "\n",
      "  [[ 989.20605  989.1413   988.9918  ...  989.46387  989.3535\n",
      "     989.2508 ]\n",
      "   [ 992.88654  992.7195   992.5983  ...  993.4874   993.30005\n",
      "     993.1224 ]\n",
      "   [ 995.7029   995.38104  995.11426 ...  996.5845   996.2765\n",
      "     995.9975 ]\n",
      "   ...\n",
      "   [ 979.5253   979.41693  979.23425 ...  980.00104  979.8691\n",
      "     979.6456 ]\n",
      "   [ 978.87054  978.78107  978.6376  ...  979.1532   979.0425\n",
      "     978.9488 ]\n",
      "   [ 977.66003  977.5318   977.40015 ...  977.68945  977.6843\n",
      "     977.67914]]]]\n"
     ]
    }
   ],
   "source": [
    "print(go_fast(arr))"
   ]
  }
 ],
 "metadata": {
  "kernelspec": {
   "display_name": "Python 3",
   "language": "python",
   "name": "python3"
  },
  "language_info": {
   "codemirror_mode": {
    "name": "ipython",
    "version": 3
   },
   "file_extension": ".py",
   "mimetype": "text/x-python",
   "name": "python",
   "nbconvert_exporter": "python",
   "pygments_lexer": "ipython3",
   "version": "3.7.4"
  }
 },
 "nbformat": 4,
 "nbformat_minor": 2
}
