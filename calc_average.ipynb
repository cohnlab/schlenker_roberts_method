{
 "cells": [
  {
   "cell_type": "code",
   "execution_count": 1,
   "metadata": {},
   "outputs": [],
   "source": [
    "from matplotlib import pyplot as plt\n",
    "import numpy as np\n",
    "import pandas as pd\n",
    "import xarray as xr\n",
    "import tqdm\n",
    "import os\n",
    "import re\n",
    "import copy\n",
    "import datetime\n",
    "import numba\n",
    "from numba import jit,prange\n",
    "import regionmask\n",
    "from shapely.geometry import Polygon, MultiPolygon, shape\n",
    "import fiona"
   ]
  },
  {
   "cell_type": "code",
   "execution_count": 2,
   "metadata": {},
   "outputs": [],
   "source": [
    "shpfname = \"GIS/cb_2018_us_nation_20m.shp\"\n",
    "\n",
    "areafpref = \"cropmap/crops/\"\n",
    "areafsuf = \".HarvestedAreaFraction.nc\"\n",
    "areavname = \"Band1\"\n",
    "\n",
    "varfpref = \"sheffield_vpd/Sacks_ZARC_fill_fill_120d/teste/\"\n",
    "varfsuf = \".all.nc\"\n",
    "varvname = \"tempmean\""
   ]
  },
  {
   "cell_type": "code",
   "execution_count": 3,
   "metadata": {},
   "outputs": [],
   "source": [
    "crop = \"Soybeans\""
   ]
  },
  {
   "cell_type": "code",
   "execution_count": 4,
   "metadata": {},
   "outputs": [],
   "source": [
    "areafname = areafpref + crop + areafsuf\n",
    "varfname = varfpref + crop + varfsuf"
   ]
  },
  {
   "cell_type": "code",
   "execution_count": 5,
   "metadata": {},
   "outputs": [
    {
     "data": {
      "text/html": [
       "<pre>&lt;xarray.DataArray &#x27;Band1&#x27; (lat: 2160, lon: 4320)&gt;\n",
       "[9331200 values with dtype=float32]\n",
       "Coordinates:\n",
       "  * lat      (lat) float64 -89.96 -89.88 -89.79 -89.71 ... 89.79 89.87 89.96\n",
       "  * lon      (lon) float64 -180.0 -179.9 -179.8 -179.7 ... 179.8 179.9 180.0\n",
       "Attributes:\n",
       "    long_name:     GDAL Band Number 1\n",
       "    grid_mapping:  crs</pre>"
      ],
      "text/plain": [
       "<xarray.DataArray 'Band1' (lat: 2160, lon: 4320)>\n",
       "[9331200 values with dtype=float32]\n",
       "Coordinates:\n",
       "  * lat      (lat) float64 -89.96 -89.88 -89.79 -89.71 ... 89.79 89.87 89.96\n",
       "  * lon      (lon) float64 -180.0 -179.9 -179.8 -179.7 ... 179.8 179.9 180.0\n",
       "Attributes:\n",
       "    long_name:     GDAL Band Number 1\n",
       "    grid_mapping:  crs"
      ]
     },
     "execution_count": 5,
     "metadata": {},
     "output_type": "execute_result"
    }
   ],
   "source": [
    "areain = xr.open_dataset(areafname)[areavname]\n",
    "areain"
   ]
  },
  {
   "cell_type": "code",
   "execution_count": 6,
   "metadata": {},
   "outputs": [
    {
     "data": {
      "text/html": [
       "<pre>&lt;xarray.DataArray &#x27;tempmean&#x27; (lat: 180, lon: 360)&gt;\n",
       "array([[-33.086641, -33.137909, -33.060869, ..., -33.240492, -33.194292,\n",
       "        -33.059055],\n",
       "       [-38.982688, -38.890599, -38.642072, ..., -38.986444, -38.944998,\n",
       "        -38.947341],\n",
       "       [-35.20735 , -35.115651, -34.953442, ..., -35.537426, -35.332495,\n",
       "        -35.221457],\n",
       "       ...,\n",
       "       [       nan,        nan,        nan, ...,        nan,        nan,\n",
       "               nan],\n",
       "       [       nan,        nan,        nan, ...,        nan,        nan,\n",
       "               nan],\n",
       "       [       nan,        nan,        nan, ...,        nan,        nan,\n",
       "               nan]])\n",
       "Coordinates:\n",
       "  * lon      (lon) float32 -179.75 -178.74861 -177.74721 ... 178.7486 179.75\n",
       "  * lat      (lat) float32 -89.5 -88.5 -87.5 -86.5 -85.5 ... 86.5 87.5 88.5 89.5</pre>"
      ],
      "text/plain": [
       "<xarray.DataArray 'tempmean' (lat: 180, lon: 360)>\n",
       "array([[-33.086641, -33.137909, -33.060869, ..., -33.240492, -33.194292,\n",
       "        -33.059055],\n",
       "       [-38.982688, -38.890599, -38.642072, ..., -38.986444, -38.944998,\n",
       "        -38.947341],\n",
       "       [-35.20735 , -35.115651, -34.953442, ..., -35.537426, -35.332495,\n",
       "        -35.221457],\n",
       "       ...,\n",
       "       [       nan,        nan,        nan, ...,        nan,        nan,\n",
       "               nan],\n",
       "       [       nan,        nan,        nan, ...,        nan,        nan,\n",
       "               nan],\n",
       "       [       nan,        nan,        nan, ...,        nan,        nan,\n",
       "               nan]])\n",
       "Coordinates:\n",
       "  * lon      (lon) float32 -179.75 -178.74861 -177.74721 ... 178.7486 179.75\n",
       "  * lat      (lat) float32 -89.5 -88.5 -87.5 -86.5 -85.5 ... 86.5 87.5 88.5 89.5"
      ]
     },
     "execution_count": 6,
     "metadata": {},
     "output_type": "execute_result"
    }
   ],
   "source": [
    "varin = xr.open_dataset(varfname)[varvname]\n",
    "varin = varin.rename({\"latitude\":\"lat\", \"longitude\":\"lon\"})\n",
    "varin"
   ]
  },
  {
   "cell_type": "code",
   "execution_count": 7,
   "metadata": {},
   "outputs": [
    {
     "name": "stderr",
     "output_type": "stream",
     "text": [
      "C:\\Users\\eriad\\Anaconda3\\lib\\site-packages\\ipykernel_launcher.py:2: FionaDeprecationWarning: Collection.__next__() is buggy and will be removed in Fiona 2.0. Switch to `next(iter(collection))`.\n",
      "  \n"
     ]
    }
   ],
   "source": [
    "shp = fiona.open(shpfname)\n",
    "poly = MultiPolygon(shape(shp.next()[\"geometry\"]))\n",
    "shpmsk = regionmask.Regions(poly).mask(areain[\"lon\"],areain[\"lat\"])\n",
    "\n",
    "# shpmsk.plot()"
   ]
  },
  {
   "cell_type": "code",
   "execution_count": 8,
   "metadata": {},
   "outputs": [
    {
     "data": {
      "text/html": [
       "<pre>&lt;xarray.DataArray &#x27;region&#x27; (lat: 2160, lon: 4320)&gt;\n",
       "array([[nan, nan, nan, ..., nan, nan, nan],\n",
       "       [nan, nan, nan, ..., nan, nan, nan],\n",
       "       [nan, nan, nan, ..., nan, nan, nan],\n",
       "       ...,\n",
       "       [nan, nan, nan, ..., nan, nan, nan],\n",
       "       [nan, nan, nan, ..., nan, nan, nan],\n",
       "       [nan, nan, nan, ..., nan, nan, nan]])\n",
       "Coordinates:\n",
       "  * lat      (lat) float64 -89.96 -89.88 -89.79 -89.71 ... 89.79 89.87 89.96\n",
       "  * lon      (lon) float64 -180.0 -179.9 -179.8 -179.7 ... 179.8 179.9 180.0</pre>"
      ],
      "text/plain": [
       "<xarray.DataArray 'region' (lat: 2160, lon: 4320)>\n",
       "array([[nan, nan, nan, ..., nan, nan, nan],\n",
       "       [nan, nan, nan, ..., nan, nan, nan],\n",
       "       [nan, nan, nan, ..., nan, nan, nan],\n",
       "       ...,\n",
       "       [nan, nan, nan, ..., nan, nan, nan],\n",
       "       [nan, nan, nan, ..., nan, nan, nan],\n",
       "       [nan, nan, nan, ..., nan, nan, nan]])\n",
       "Coordinates:\n",
       "  * lat      (lat) float64 -89.96 -89.88 -89.79 -89.71 ... 89.79 89.87 89.96\n",
       "  * lon      (lon) float64 -180.0 -179.9 -179.8 -179.7 ... 179.8 179.9 180.0"
      ]
     },
     "execution_count": 8,
     "metadata": {},
     "output_type": "execute_result"
    }
   ],
   "source": [
    "shpmsk = xr.where(shpmsk.notnull(),1,np.nan)\n",
    "shpmsk"
   ]
  },
  {
   "cell_type": "code",
   "execution_count": 12,
   "metadata": {},
   "outputs": [],
   "source": [
    "maskedarea = areain.where(shpmsk.notnull())\n",
    "# maskedarea.plot()"
   ]
  },
  {
   "cell_type": "code",
   "execution_count": 10,
   "metadata": {},
   "outputs": [
    {
     "data": {
      "text/html": [
       "<pre>&lt;xarray.DataArray &#x27;tempmean&#x27; (lat: 2160, lon: 4320)&gt;\n",
       "array([[nan, nan, nan, ..., nan, nan, nan],\n",
       "       [nan, nan, nan, ..., nan, nan, nan],\n",
       "       [nan, nan, nan, ..., nan, nan, nan],\n",
       "       ...,\n",
       "       [nan, nan, nan, ..., nan, nan, nan],\n",
       "       [nan, nan, nan, ..., nan, nan, nan],\n",
       "       [nan, nan, nan, ..., nan, nan, nan]])\n",
       "Coordinates:\n",
       "  * lat      (lat) float64 -89.96 -89.88 -89.79 -89.71 ... 89.79 89.87 89.96\n",
       "  * lon      (lon) float64 -180.0 -179.9 -179.8 -179.7 ... 179.8 179.9 180.0</pre>"
      ],
      "text/plain": [
       "<xarray.DataArray 'tempmean' (lat: 2160, lon: 4320)>\n",
       "array([[nan, nan, nan, ..., nan, nan, nan],\n",
       "       [nan, nan, nan, ..., nan, nan, nan],\n",
       "       [nan, nan, nan, ..., nan, nan, nan],\n",
       "       ...,\n",
       "       [nan, nan, nan, ..., nan, nan, nan],\n",
       "       [nan, nan, nan, ..., nan, nan, nan],\n",
       "       [nan, nan, nan, ..., nan, nan, nan]])\n",
       "Coordinates:\n",
       "  * lat      (lat) float64 -89.96 -89.88 -89.79 -89.71 ... 89.79 89.87 89.96\n",
       "  * lon      (lon) float64 -180.0 -179.9 -179.8 -179.7 ... 179.8 179.9 180.0"
      ]
     },
     "execution_count": 10,
     "metadata": {},
     "output_type": "execute_result"
    }
   ],
   "source": [
    "vargrid = varin.interp(lat=maskedarea['lat'],lon=maskedarea['lon'],method = 'nearest')\n",
    "vargrid"
   ]
  },
  {
   "cell_type": "code",
   "execution_count": 11,
   "metadata": {},
   "outputs": [
    {
     "data": {
      "text/html": [
       "<pre>&lt;xarray.DataArray ()&gt;\n",
       "array(22.00656828)</pre>"
      ],
      "text/plain": [
       "<xarray.DataArray ()>\n",
       "array(22.00656828)"
      ]
     },
     "execution_count": 11,
     "metadata": {},
     "output_type": "execute_result"
    }
   ],
   "source": [
    "np.sum(maskedarea*vargrid)/np.sum(maskedarea)"
   ]
  }
 ],
 "metadata": {
  "kernelspec": {
   "display_name": "Python 3",
   "language": "python",
   "name": "python3"
  },
  "language_info": {
   "codemirror_mode": {
    "name": "ipython",
    "version": 3
   },
   "file_extension": ".py",
   "mimetype": "text/x-python",
   "name": "python",
   "nbconvert_exporter": "python",
   "pygments_lexer": "ipython3",
   "version": "3.7.4"
  }
 },
 "nbformat": 4,
 "nbformat_minor": 2
}
