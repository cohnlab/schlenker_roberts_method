{
 "cells": [
  {
   "cell_type": "code",
   "execution_count": 1,
   "metadata": {},
   "outputs": [],
   "source": [
    "from matplotlib import pyplot as plt\n",
    "import numpy as np\n",
    "import pandas as pd\n",
    "import xarray as xr\n",
    "import tqdm\n",
    "import os\n",
    "import re\n",
    "import copy\n",
    "import datetime\n",
    "import numba\n",
    "from numba import jit,prange"
   ]
  },
  {
   "cell_type": "code",
   "execution_count": 24,
   "metadata": {},
   "outputs": [],
   "source": [
    "infolder = \"xavier/\"\n",
    "\n",
    "outfolder = \"xavier_computed/\"\n",
    "\n",
    "temppref = \"temp.daily.\"\n",
    "tmaxpref = \"tmax.daily.\"\n",
    "tminpref = \"tmin.daily.\"\n",
    "precpref = \"prec.daily.\"\n",
    "\n",
    "calfolder = \"calendars_sacks_interp/\"\n",
    "calsuf = \".crop.calendar.fill.nc\"\n",
    "planvar = \"plant.start\"\n",
    "harvvar = \"harvest.end\"\n",
    "\n",
    "crops = [\"Maize\",\"Soybeans\",\"Rice\",\"Wheat\"]\n",
    "\n",
    "# The basis of calculation will be harvest years\n",
    "hyears = [2000,2001,2002]\n",
    "\n",
    "# Parameters for evaluating the temperature distribution\n",
    "Tlo = -5.0\n",
    "Thi = 50.0\n",
    "Tint = 1.0"
   ]
  },
  {
   "cell_type": "code",
   "execution_count": 3,
   "metadata": {},
   "outputs": [],
   "source": [
    "# Opens and concatenates a harvest year with the equivalent planting year\n",
    "def concat_clim(infolder,climpref,hyear):\n",
    "    pyear = hyear - 1\n",
    "\n",
    "    climharr = xr.open_dataarray(infolder+climpref+str(hyear)+\".nc\")\n",
    "    climparr = xr.open_dataarray(infolder+climpref+str(pyear)+\".nc\")\n",
    "\n",
    "    climarr = xr.concat([climparr,climharr], dim = \"time\")\n",
    "    return climarr"
   ]
  },
  {
   "cell_type": "code",
   "execution_count": 28,
   "metadata": {},
   "outputs": [],
   "source": [
    "# Create output folder\n",
    "if not os.path.exists(outfolder): os.makedirs(outfolder, exist_ok=True)\n",
    "\n",
    "#FIXME: Loop crops here\n",
    "crop = crops[1]\n",
    "\n",
    "# Open calendar and convert it to two-year based indexes. FIXME: Ignoring leap years here\n",
    "caldata = xr.open_dataset(calfolder+crop+calsuf)\n",
    "planarr = caldata[planvar]\n",
    "harvarr = caldata[harvvar]\n",
    "harvarr = xr.where(harvarr < planarr,harvarr + 365,harvarr) - 1 "
   ]
  },
  {
   "cell_type": "code",
   "execution_count": 5,
   "metadata": {},
   "outputs": [],
   "source": [
    "#FIXME: Loop here\n",
    "hyear = hyears[0]\n",
    "\n",
    "# Open the climate arrays, concatenating them\n",
    "temparr = concat_clim(infolder,temppref,hyear)\n",
    "tmaxarr = concat_clim(infolder,tmaxpref,hyear)\n",
    "tminarr = concat_clim(infolder,tminpref,hyear)\n",
    "precarr = concat_clim(infolder,precpref,hyear)"
   ]
  },
  {
   "cell_type": "code",
   "execution_count": 6,
   "metadata": {},
   "outputs": [],
   "source": [
    "# FUNCTION DOMAIN"
   ]
  },
  {
   "cell_type": "code",
   "execution_count": 7,
   "metadata": {},
   "outputs": [],
   "source": [
    "# Calculates t distribution for a single day\n",
    "@jit(nopython=True)\n",
    "def calc_dist_day(Tmin,Tmax,Tl1s,Tint):\n",
    "    res = 0.005 #Resolution (dt, in days) on which to evaluate the T sine curve\n",
    "\n",
    "#     Tl1s = np.arange(Tlo,Thi,Tint)\n",
    "    nT = Tl1s.shape[0]\n",
    "    exps = np.zeros_like(Tl1s)\n",
    "\n",
    "    t = np.arange(0,1,res)\n",
    "    nt = t.shape[0]\n",
    "\n",
    "    Tamp = (Tmax-Tmin)/2.0\n",
    "    Tmed = (Tmax+Tmin)/2.0\n",
    "\n",
    "    T = Tmed + Tamp*np.sin(t*(2.0*np.pi/1))\n",
    "\n",
    "    for tcount in range(nT):\n",
    "        Tl1 = Tl1s[tcount]\n",
    "        Tl2 = Tl1 + Tint\n",
    "        exps[tcount] = np.sum(np.invert(np.isnan(\n",
    "            np.where((T>=Tl1) & (T<=Tl2) ,T,np.nan)\n",
    "        )))/nt\n",
    "    return exps\n",
    "\n",
    "\n",
    "@jit(nopython=True)\n",
    "def calc_dist_point(tmaxvec,tminvec,Tlos,Tint):\n",
    "    allexps = np.zeros_like(Tlos)\n",
    "    for day in range(tminvec.shape[0]):\n",
    "        allexps = allexps + calc_dist_day(tminvec[day],tmaxvec[day],Tlos,Tint)\n",
    "    return allexps\n"
   ]
  },
  {
   "cell_type": "code",
   "execution_count": null,
   "metadata": {},
   "outputs": [],
   "source": []
  },
  {
   "cell_type": "code",
   "execution_count": 8,
   "metadata": {},
   "outputs": [],
   "source": [
    "# Generate a vector of lower T bounds to use as metadata and speed up computation\n",
    "Tlos = np.arange(Tlo,Thi,Tint)\n",
    "\n",
    "# Preallocate the arrays that will be filled\n",
    "lldims = (\"latitude\",\"longitude\")\n",
    "coords = [(i,temparr.coords[i].data,temparr.coords[i].attrs) for i in lldims] # Tuples with lat and lon dimension specs\n",
    "\n",
    "# 2D arrays\n",
    "tempmean = xr.DataArray(coords = coords, name = \"tempmean\")\n",
    "tmaxmean = xr.DataArray(coords = coords, name = \"tmaxmean\")\n",
    "tminmean = xr.DataArray(coords = coords, name = \"tminmean\")\n",
    "precmean = xr.DataArray(coords = coords, name = \"precmean\")\n",
    "\n",
    "# 2D + tmp arrays\n",
    "tmp = (\"tmp\",Tlos,{\"long_name\":\"Temperature interval lower bound\",\"units\":\"degC\"})\n",
    "coords3d = [tmp] + coords\n",
    "tempdist = xr.DataArray(np.nan, coords = coords3d, name = \"tempdist\")"
   ]
  },
  {
   "cell_type": "code",
   "execution_count": 9,
   "metadata": {},
   "outputs": [],
   "source": [
    "# This basically creates pointers to the numpy arrays inside the xr.Dataarrays\n",
    "# We need those for numba to work. An alternative would be passing the .data in the function call\n",
    "planmat = planarr.data\n",
    "harvmat = harvarr.data\n",
    "\n",
    "tempmat = temparr.data\n",
    "tmaxmat = tmaxarr.data\n",
    "tminmat = tminarr.data\n",
    "precmat = precarr.data\n",
    "\n",
    "tempmeanmat = tempmean.data\n",
    "tmaxmeanmat = tmaxmean.data\n",
    "tminmeanmat = tminmean.data\n",
    "precmeanmat = precmean.data\n",
    "\n",
    "tempdistmat = tempdist.data"
   ]
  },
  {
   "cell_type": "code",
   "execution_count": 10,
   "metadata": {},
   "outputs": [],
   "source": [
    "# Calculates everything. First define the function with Numba parallel\n",
    "@jit(nopython=True, parallel = True)\n",
    "def calc_all(planmat,harvmat,tempmat,tmaxmat,tminmat,precmat,tempmeanmat,tmaxmeanmat,tminmeanmat,precmeanmat,tempdistmat):\n",
    "    for lati in prange(tempmat.shape[1]):\n",
    "        for lonj in range(tempmat.shape[2]):\n",
    "            if (np.isnan(planmat[lati,lonj])) or (np.isnan(tempmat[0,lati,lonj])):\n",
    "                continue\n",
    "            plan = int(planmat[lati,lonj])\n",
    "            harv = int(harvmat[lati,lonj])\n",
    "\n",
    "            tempvec = tempmat[plan:harv,lati,lonj]\n",
    "            tmaxvec = tmaxmat[plan:harv,lati,lonj]\n",
    "            tminvec = tminmat[plan:harv,lati,lonj]\n",
    "            precvec = precmat[plan:harv,lati,lonj]\n",
    "\n",
    "            tempmeanmat[lati,lonj] = np.nanmean(tempvec)\n",
    "            tmaxmeanmat[lati,lonj] = np.nanmean(tmaxvec)\n",
    "            tminmeanmat[lati,lonj] = np.nanmean(tminvec)\n",
    "            precmeanmat[lati,lonj] = np.nanmean(precvec)\n",
    "            tempdistmat[:,lati,lonj] = calc_dist_point(tmaxvec,tminvec,Tlos,Tint)\n",
    "            \n",
    "# Actual execution\n",
    "calc_all(planmat,harvmat,tempmat,tmaxmat,tminmat,precmat,tempmeanmat,tmaxmeanmat,tminmeanmat,precmeanmat,tempdistmat)"
   ]
  },
  {
   "cell_type": "code",
   "execution_count": 29,
   "metadata": {},
   "outputs": [],
   "source": [
    "outdata = xr.merge([tempmean,tmaxmean,tminmean,precmean,tempdist])\n",
    "outdata.attrs['Crop'] = crop\n",
    "outdata.attrs['harvest_year'] = hyear\n",
    "outdata.attrs['calendar_path'] = calfolder+crop+calsuf\n",
    "outdata.attrs['climdata_path'] = infolder\n",
    "outdata.attrs['climdata_ex_path'] = infolder+temppref+str(hyear)+\".nc\"\n",
    "\n",
    "outfname = outfolder + crop + \".computed.\" + str(hyear) + \".nc\"\n",
    "\n",
    "outdata.to_netcdf(outfname)"
   ]
  },
  {
   "cell_type": "code",
   "execution_count": 11,
   "metadata": {},
   "outputs": [],
   "source": [
    "# These plots are good for understanding the distribution of T during the day\n",
    "# Tl1 = 15\n",
    "# Tl2 = Tl1 + 1\n",
    "# l =(np.invert(np.isnan(\n",
    "#             np.where((T>=Tl1) & (T<=Tl2) ,T,np.nan)\n",
    "#         )))\n",
    "# print(np.sum(l)/nt)\n",
    "\n",
    "# plt.subplot(2, 1, 1)\n",
    "# plt.plot(t,T)\n",
    "# plt.axhline(y=Tl1)\n",
    "# plt.axhline(y=Tl2)\n",
    "# plt.ylim((10,30))\n",
    "# plt.subplot(2, 1, 2)\n",
    "# plt.plot(t,l)\n",
    "# plt.show()\n",
    "\n",
    "# Tmin = 15\n",
    "# Tmax = 25\n",
    "# Tlo = -5.0\n",
    "# Thi = 50.0\n",
    "# Tint = 1.0\n",
    "# plt.subplot(1, 2, 1)\n",
    "# plt.plot(t,T,)\n",
    "# plt.ylim((10,30))\n",
    "# plt.subplot(1, 2, 2)\n",
    "# plt.plot(calc_dist_point(Tmin,Tmax,Tlo,Thi,Tint),Tl1s)\n",
    "# plt.ylim((10,30))\n",
    "# plt.show()"
   ]
  }
 ],
 "metadata": {
  "kernelspec": {
   "display_name": "Python 3",
   "language": "python",
   "name": "python3"
  },
  "language_info": {
   "codemirror_mode": {
    "name": "ipython",
    "version": 3
   },
   "file_extension": ".py",
   "mimetype": "text/x-python",
   "name": "python",
   "nbconvert_exporter": "python",
   "pygments_lexer": "ipython3",
   "version": "3.7.4"
  }
 },
 "nbformat": 4,
 "nbformat_minor": 2
}
