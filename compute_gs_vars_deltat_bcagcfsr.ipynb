{
 "cells": [
  {
   "cell_type": "code",
   "execution_count": 1,
   "metadata": {},
   "outputs": [],
   "source": [
    "from matplotlib import pyplot as plt\n",
    "import numpy as np\n",
    "import pandas as pd\n",
    "import xarray as xr\n",
    "import tqdm\n",
    "import os\n",
    "import re\n",
    "import copy\n",
    "import datetime\n",
    "import numba\n",
    "from numba import jit,prange"
   ]
  },
  {
   "cell_type": "markdown",
   "metadata": {},
   "source": [
    "### Setup"
   ]
  },
  {
   "cell_type": "code",
   "execution_count": 17,
   "metadata": {},
   "outputs": [
    {
     "name": "stdout",
     "output_type": "stream",
     "text": [
      "[2002, 2003, 2004, 2005, 2006, 2007, 2008]\n"
     ]
    }
   ],
   "source": [
    "infolder = \"D:/data/bcAgCFSR/regrid/\"\n",
    "\n",
    "calname = \"Sacks_ZARC_fill_fill_120d\"\n",
    "\n",
    "outfolder = \"bcagcfsr_computed/\"+calname+\"/\"\n",
    "\n",
    "masterpref = \"bcAgCFSR_\"\n",
    "tempsuf = \"tavg_\"\n",
    "tmaxsuf = \"tmax_\"\n",
    "tminsuf = \"tmin_\"\n",
    "\n",
    "calfolder = \"bcagcfsr_calendars/\"+calname+\"/\"\n",
    "calsuf = \".crop.calendar.fill.nc\"\n",
    "planvar = \"plant.start\"\n",
    "harvvar = \"harvest.end\"\n",
    "\n",
    "mskfname = infolder+\"seamask.nc\"\n",
    "\n",
    "crops = [\"Soybeans\",\"Maize\",\"Cotton\"]\n",
    "# crops = [\"Maize\",\"Soybeans\",\"Rice\",\"Wheat\"]\n",
    "# crops = [\"Soybeans\"]\n",
    "\n",
    "# The basis of calculation will be harvest years\n",
    "# hyears = [2002]\n",
    "# hyears = [2003]\n",
    "# hyears = [2009]\n",
    "# hyears = [2009,2010,2011,2012,2013,2014]\n",
    "# hyears = [2010,2011,2012,2013,2014]\n",
    "hyears = list(range(2002,2008+1))\n",
    "# hyears = list(range(2002,2003+1))\n",
    "print(hyears)\n",
    "\n",
    "deltats = [0,1,2,3,4,5]\n",
    "\n",
    "# Parameters for evaluating the temperature distribution\n",
    "# Tlo = -5.0\n",
    "# Thi = 50.0\n",
    "# Tint = 1.0\n",
    "Tlo = 10.0\n",
    "Thi = 39.0\n",
    "Tint = 1.0"
   ]
  },
  {
   "cell_type": "markdown",
   "metadata": {},
   "source": [
    "### Defining functions"
   ]
  },
  {
   "cell_type": "code",
   "execution_count": 18,
   "metadata": {},
   "outputs": [],
   "source": [
    "# Opens and concatenates a harvest year with the equivalent planting year\n",
    "# def concat_clim(infolder,climpref,hyear):\n",
    "def concat_clim(infolder,masterpref,climsuf,hyear):\n",
    "    pyear = hyear - 1\n",
    "\n",
    "#     climharr = xr.open_dataarray(infolder+climpref+str(hyear)+\".nc\")\n",
    "#     climparr = xr.open_dataarray(infolder+climpref+str(pyear)+\".nc\")\n",
    "#     climharr = xr.open_dataarray(infolder+masterpref+str(hyear)+climsuf+\".nc\")\n",
    "#     climparr = xr.open_dataarray(infolder+masterpref+str(pyear)+climsuf+\".nc\")\n",
    "#     climharr = xr.open_dataarray(infolder+masterpref+str(hyear)+climsuf, decode_times = False)\n",
    "#     climparr = xr.open_dataarray(infolder+masterpref+str(pyear)+climsuf, decode_times = False)\n",
    "    climharr = xr.open_dataarray(infolder+masterpref+climsuf+str(hyear)+\".nc4\", decode_times = False)\n",
    "    climparr = xr.open_dataarray(infolder+masterpref+climsuf+str(pyear)+\".nc4\", decode_times = False)\n",
    "\n",
    "    climarr = xr.concat([climparr,climharr], dim = \"time\")\n",
    "    return climarr"
   ]
  },
  {
   "cell_type": "code",
   "execution_count": 19,
   "metadata": {},
   "outputs": [],
   "source": [
    "# Calculates t distribution for a single day\n",
    "@jit(nopython=True)\n",
    "def calc_dist_day(Tmin,Tmax,Tl1s,Tint):\n",
    "    res = 0.005 #Resolution (dt, in days) on which to evaluate the T sine curve\n",
    "\n",
    "#     Tl1s = np.arange(Tlo,Thi,Tint)\n",
    "    nT = Tl1s.shape[0]\n",
    "    exps = np.zeros_like(Tl1s)\n",
    "\n",
    "    t = np.arange(0,1,res)\n",
    "    nt = t.shape[0]\n",
    "\n",
    "    Tamp = (Tmax-Tmin)/2.0\n",
    "    Tmed = (Tmax+Tmin)/2.0\n",
    "\n",
    "    T = Tmed + Tamp*np.sin(t*(2.0*np.pi/1))\n",
    "\n",
    "    for tcount in range(nT):\n",
    "        Tl1 = Tl1s[tcount]\n",
    "        Tl2 = Tl1 + Tint\n",
    "        exps[tcount] = np.sum(np.invert(np.isnan(\n",
    "            np.where((T>=Tl1) & (T<=Tl2) ,T,np.nan)\n",
    "        )))/nt\n",
    "    return exps\n",
    "\n",
    "\n",
    "@jit(nopython=True)\n",
    "def calc_dist_point(tmaxvec,tminvec,Tlos,Tint):\n",
    "    allexps = np.zeros_like(Tlos)\n",
    "    for day in range(tminvec.shape[0]):\n",
    "        allexps = allexps + calc_dist_day(tminvec[day],tmaxvec[day],Tlos,Tint)\n",
    "    return allexps\n"
   ]
  },
  {
   "cell_type": "code",
   "execution_count": 20,
   "metadata": {},
   "outputs": [],
   "source": [
    "# Calculates GDD for a single day\n",
    "@jit(nopython=True)\n",
    "def calc_gdd_day(Tmin,Tmax,Tl1s):\n",
    "    res = 0.005 #Resolution (dt, in days) on which to evaluate the T sine curve\n",
    "\n",
    "    #     Tl1s = np.arange(Tlo,Thi,Tint)\n",
    "    nT = Tl1s.shape[0]\n",
    "    gdds = np.zeros_like(Tl1s)\n",
    "\n",
    "    t = np.arange(0,1,res)\n",
    "    nt = t.shape[0]\n",
    "\n",
    "    Tamp = (Tmax-Tmin)/2.0\n",
    "    Tmed = (Tmax+Tmin)/2.0\n",
    "\n",
    "    T = Tmed + Tamp*np.sin(t*(2.0*np.pi/1))\n",
    "\n",
    "    for tcount in range(nT):\n",
    "        Tl1 = Tl1s[tcount]\n",
    "        gdds[tcount] = np.sum(np.invert(np.isnan(\n",
    "            np.where((T>=Tl1),T,np.nan)\n",
    "        ))*(T-Tl1))/nt\n",
    "\n",
    "    return gdds\n",
    "\n",
    "@jit(nopython=True)\n",
    "def calc_gdd_point(tmaxvec,tminvec,Tlos):\n",
    "    allgdds = np.zeros_like(Tlos)\n",
    "    for day in range(tminvec.shape[0]):\n",
    "        allgdds = allgdds + calc_gdd_day(tminvec[day],tmaxvec[day],Tlos)\n",
    "    return allgdds\n"
   ]
  },
  {
   "cell_type": "code",
   "execution_count": 21,
   "metadata": {},
   "outputs": [],
   "source": [
    "# Calculates everything for the growing season given numpy arrays. \n",
    "# Loops throught the points and calculates both distribution and regular gs means\n",
    "# Compiles with Numba parallel\n",
    "@jit(nopython=True, parallel = True)\n",
    "# @jit(nopython=True)\n",
    "def calc_all(planmat,harvmat,tempmat,tmaxmat,tminmat,\n",
    "             tempmeanmat,tmaxmeanmat,tminmeanmat,\n",
    "             trngmeanmat,ndaymat,\n",
    "             tempdistmat,tempgddsmat):\n",
    "    for lati in prange(tempmat.shape[1]):\n",
    "        for lonj in range(tempmat.shape[2]):\n",
    "            if (np.isnan(planmat[lati,lonj])) or (np.isnan(tempmat[0,lati,lonj])):\n",
    "                continue\n",
    "            plan = int(planmat[lati,lonj])\n",
    "            harv = int(harvmat[lati,lonj])\n",
    "\n",
    "            tempvec = tempmat[plan:harv,lati,lonj]\n",
    "            tmaxvec = tmaxmat[plan:harv,lati,lonj]\n",
    "            tminvec = tminmat[plan:harv,lati,lonj]\n",
    "\n",
    "            tempmeanmat[lati,lonj] = np.nanmean(tempvec)\n",
    "            tmaxmeanmat[lati,lonj] = np.nanmean(tmaxvec)\n",
    "            tminmeanmat[lati,lonj] = np.nanmean(tminvec)\n",
    "            trngmeanmat[lati,lonj] = np.nanmean(tmaxvec - tminvec)\n",
    "            ndaymat[lati,lonj] = np.int64(harv-plan)\n",
    "            tempdistmat[:,lati,lonj] = calc_dist_point(tmaxvec,tminvec,Tlos,Tint)\n",
    "            tempgddsmat[:,lati,lonj] = calc_gdd_point(tmaxvec,tminvec,Tlos)"
   ]
  },
  {
   "cell_type": "code",
   "execution_count": 22,
   "metadata": {},
   "outputs": [],
   "source": [
    "# Calculates everything for the growing season given numpy arrays. EXCEPT TDIST!\n",
    "# Loops throught the points and calculates both distribution and regular gs means\n",
    "# Compiles with Numba parallel\n",
    "@jit(nopython=True, parallel = True)\n",
    "# @jit(nopython=True)\n",
    "def calc_all_but_tdist(planmat,harvmat,tempmat,tmaxmat,tminmat,\n",
    "             tempmeanmat,tmaxmeanmat,tminmeanmat,\n",
    "             trngmeanmat,ndaymat,\n",
    "             tempgddsmat):\n",
    "    for lati in prange(tempmat.shape[1]):\n",
    "        for lonj in range(tempmat.shape[2]):\n",
    "            if (np.isnan(planmat[lati,lonj])) or (np.isnan(tempmat[0,lati,lonj])):\n",
    "                continue\n",
    "            plan = int(planmat[lati,lonj])\n",
    "            harv = int(harvmat[lati,lonj])\n",
    "\n",
    "            tempvec = tempmat[plan:harv,lati,lonj]\n",
    "            tmaxvec = tmaxmat[plan:harv,lati,lonj]\n",
    "            tminvec = tminmat[plan:harv,lati,lonj]\n",
    "\n",
    "            tempmeanmat[lati,lonj] = np.nanmean(tempvec)\n",
    "            tmaxmeanmat[lati,lonj] = np.nanmean(tmaxvec)\n",
    "            tminmeanmat[lati,lonj] = np.nanmean(tminvec)\n",
    "            trngmeanmat[lati,lonj] = np.nanmean(tmaxvec - tminvec)\n",
    "            ndaymat[lati,lonj] = np.int64(harv-plan)\n",
    "#             tempdistmat[:,lati,lonj] = calc_dist_point(tmaxvec,tminvec,Tlos,Tint)\n",
    "            tempgddsmat[:,lati,lonj] = calc_gdd_point(tmaxvec,tminvec,Tlos)"
   ]
  },
  {
   "cell_type": "markdown",
   "metadata": {},
   "source": [
    "### Begin main script"
   ]
  },
  {
   "cell_type": "code",
   "execution_count": 24,
   "metadata": {},
   "outputs": [
    {
     "name": "stdout",
     "output_type": "stream",
     "text": [
      "Soybeans\n"
     ]
    },
    {
     "name": "stderr",
     "output_type": "stream",
     "text": [
      "  0%|                                                                                            | 0/7 [00:00<?, ?it/s]\n",
      "  0%|                                                                                            | 0/6 [00:00<?, ?it/s]"
     ]
    },
    {
     "name": "stdout",
     "output_type": "stream",
     "text": [
      "Soybeans deltat = 0\n"
     ]
    },
    {
     "name": "stderr",
     "output_type": "stream",
     "text": [
      "\n",
      " 17%|█████████████▊                                                                     | 1/6 [01:53<09:27, 113.46s/it]"
     ]
    },
    {
     "name": "stdout",
     "output_type": "stream",
     "text": [
      "Soybeans deltat = 1\n"
     ]
    },
    {
     "name": "stderr",
     "output_type": "stream",
     "text": [
      "\n",
      " 33%|███████████████████████████▋                                                       | 2/6 [03:49<07:36, 114.14s/it]"
     ]
    },
    {
     "name": "stdout",
     "output_type": "stream",
     "text": [
      "Soybeans deltat = 2\n"
     ]
    },
    {
     "name": "stderr",
     "output_type": "stream",
     "text": [
      "\n",
      " 50%|█████████████████████████████████████████▌                                         | 3/6 [05:44<05:43, 114.40s/it]"
     ]
    },
    {
     "name": "stdout",
     "output_type": "stream",
     "text": [
      "Soybeans deltat = 3\n"
     ]
    },
    {
     "name": "stderr",
     "output_type": "stream",
     "text": [
      "\n",
      " 67%|███████████████████████████████████████████████████████▎                           | 4/6 [07:37<03:48, 114.20s/it]"
     ]
    },
    {
     "name": "stdout",
     "output_type": "stream",
     "text": [
      "Soybeans deltat = 4\n"
     ]
    },
    {
     "name": "stderr",
     "output_type": "stream",
     "text": [
      "\n",
      " 83%|█████████████████████████████████████████████████████████████████████▏             | 5/6 [09:31<01:53, 113.95s/it]"
     ]
    },
    {
     "name": "stdout",
     "output_type": "stream",
     "text": [
      "Soybeans deltat = 5\n"
     ]
    },
    {
     "name": "stderr",
     "output_type": "stream",
     "text": [
      "\n",
      "100%|███████████████████████████████████████████████████████████████████████████████████| 6/6 [11:24<00:00, 114.10s/it]\n",
      " 14%|███████████▌                                                                     | 1/7 [11:24<1:08:27, 684.59s/it]\n",
      "  0%|                                                                                            | 0/6 [00:00<?, ?it/s]"
     ]
    },
    {
     "name": "stdout",
     "output_type": "stream",
     "text": [
      "Soybeans deltat = 0\n"
     ]
    },
    {
     "name": "stderr",
     "output_type": "stream",
     "text": [
      "\n",
      " 17%|█████████████▊                                                                     | 1/6 [01:55<09:37, 115.58s/it]"
     ]
    },
    {
     "name": "stdout",
     "output_type": "stream",
     "text": [
      "Soybeans deltat = 1\n"
     ]
    },
    {
     "name": "stderr",
     "output_type": "stream",
     "text": [
      "\n",
      " 33%|███████████████████████████▋                                                       | 2/6 [03:53<07:45, 116.34s/it]"
     ]
    },
    {
     "name": "stdout",
     "output_type": "stream",
     "text": [
      "Soybeans deltat = 2\n"
     ]
    },
    {
     "name": "stderr",
     "output_type": "stream",
     "text": [
      "\n",
      " 50%|█████████████████████████████████████████▌                                         | 3/6 [05:49<05:48, 116.28s/it]"
     ]
    },
    {
     "name": "stdout",
     "output_type": "stream",
     "text": [
      "Soybeans deltat = 3\n"
     ]
    },
    {
     "name": "stderr",
     "output_type": "stream",
     "text": [
      "\n",
      " 67%|███████████████████████████████████████████████████████▎                           | 4/6 [07:45<03:51, 115.99s/it]"
     ]
    },
    {
     "name": "stdout",
     "output_type": "stream",
     "text": [
      "Soybeans deltat = 4\n"
     ]
    },
    {
     "name": "stderr",
     "output_type": "stream",
     "text": [
      "\n",
      " 83%|█████████████████████████████████████████████████████████████████████▏             | 5/6 [09:39<01:55, 115.64s/it]"
     ]
    },
    {
     "name": "stdout",
     "output_type": "stream",
     "text": [
      "Soybeans deltat = 5\n"
     ]
    },
    {
     "name": "stderr",
     "output_type": "stream",
     "text": [
      "\n",
      "100%|███████████████████████████████████████████████████████████████████████████████████| 6/6 [11:34<00:00, 115.77s/it]\n",
      " 29%|███████████████████████▋                                                           | 2/7 [22:59<57:18, 687.61s/it]\n",
      "  0%|                                                                                            | 0/6 [00:00<?, ?it/s]"
     ]
    },
    {
     "name": "stdout",
     "output_type": "stream",
     "text": [
      "Soybeans deltat = 0\n"
     ]
    },
    {
     "name": "stderr",
     "output_type": "stream",
     "text": [
      "\n",
      " 17%|█████████████▊                                                                     | 1/6 [01:59<09:56, 119.21s/it]"
     ]
    },
    {
     "name": "stdout",
     "output_type": "stream",
     "text": [
      "Soybeans deltat = 1\n"
     ]
    },
    {
     "name": "stderr",
     "output_type": "stream",
     "text": [
      "\n",
      " 33%|███████████████████████████▋                                                       | 2/6 [03:54<07:52, 118.08s/it]"
     ]
    },
    {
     "name": "stdout",
     "output_type": "stream",
     "text": [
      "Soybeans deltat = 2\n"
     ]
    },
    {
     "name": "stderr",
     "output_type": "stream",
     "text": [
      "\n",
      " 50%|█████████████████████████████████████████▌                                         | 3/6 [05:50<05:52, 117.49s/it]"
     ]
    },
    {
     "name": "stdout",
     "output_type": "stream",
     "text": [
      "Soybeans deltat = 3\n"
     ]
    },
    {
     "name": "stderr",
     "output_type": "stream",
     "text": [
      "\n",
      " 67%|███████████████████████████████████████████████████████▎                           | 4/6 [07:45<03:53, 116.69s/it]"
     ]
    },
    {
     "name": "stdout",
     "output_type": "stream",
     "text": [
      "Soybeans deltat = 4\n"
     ]
    },
    {
     "name": "stderr",
     "output_type": "stream",
     "text": [
      "\n",
      " 83%|█████████████████████████████████████████████████████████████████████▏             | 5/6 [09:40<01:56, 116.22s/it]"
     ]
    },
    {
     "name": "stdout",
     "output_type": "stream",
     "text": [
      "Soybeans deltat = 5\n"
     ]
    },
    {
     "name": "stderr",
     "output_type": "stream",
     "text": [
      "\n",
      "100%|███████████████████████████████████████████████████████████████████████████████████| 6/6 [11:36<00:00, 116.02s/it]\n",
      " 43%|███████████████████████████████████▌                                               | 3/7 [34:35<46:00, 690.16s/it]\n",
      "  0%|                                                                                            | 0/6 [00:00<?, ?it/s]"
     ]
    },
    {
     "name": "stdout",
     "output_type": "stream",
     "text": [
      "Soybeans deltat = 0\n"
     ]
    },
    {
     "name": "stderr",
     "output_type": "stream",
     "text": [
      "\n",
      " 17%|█████████████▊                                                                     | 1/6 [01:54<09:32, 114.42s/it]"
     ]
    },
    {
     "name": "stdout",
     "output_type": "stream",
     "text": [
      "Soybeans deltat = 1\n"
     ]
    },
    {
     "name": "stderr",
     "output_type": "stream",
     "text": [
      "\n",
      " 33%|███████████████████████████▋                                                       | 2/6 [03:52<07:42, 115.56s/it]"
     ]
    },
    {
     "name": "stdout",
     "output_type": "stream",
     "text": [
      "Soybeans deltat = 2\n"
     ]
    },
    {
     "name": "stderr",
     "output_type": "stream",
     "text": [
      "\n",
      " 50%|█████████████████████████████████████████▌                                         | 3/6 [05:50<05:48, 116.21s/it]"
     ]
    },
    {
     "name": "stdout",
     "output_type": "stream",
     "text": [
      "Soybeans deltat = 3\n"
     ]
    },
    {
     "name": "stderr",
     "output_type": "stream",
     "text": [
      "\n",
      " 67%|███████████████████████████████████████████████████████▎                           | 4/6 [07:46<03:52, 116.23s/it]"
     ]
    },
    {
     "name": "stdout",
     "output_type": "stream",
     "text": [
      "Soybeans deltat = 4\n"
     ]
    },
    {
     "name": "stderr",
     "output_type": "stream",
     "text": [
      "\n",
      " 83%|█████████████████████████████████████████████████████████████████████▏             | 5/6 [09:41<01:55, 115.89s/it]"
     ]
    },
    {
     "name": "stdout",
     "output_type": "stream",
     "text": [
      "Soybeans deltat = 5\n"
     ]
    },
    {
     "name": "stderr",
     "output_type": "stream",
     "text": [
      "\n",
      "100%|███████████████████████████████████████████████████████████████████████████████████| 6/6 [11:37<00:00, 116.27s/it]\n",
      " 57%|███████████████████████████████████████████████▍                                   | 4/7 [46:12<34:37, 692.39s/it]\n",
      "  0%|                                                                                            | 0/6 [00:00<?, ?it/s]"
     ]
    },
    {
     "name": "stdout",
     "output_type": "stream",
     "text": [
      "Soybeans deltat = 0\n"
     ]
    },
    {
     "name": "stderr",
     "output_type": "stream",
     "text": [
      "\n",
      " 17%|█████████████▊                                                                     | 1/6 [01:54<09:32, 114.44s/it]"
     ]
    },
    {
     "name": "stdout",
     "output_type": "stream",
     "text": [
      "Soybeans deltat = 1\n"
     ]
    },
    {
     "name": "stderr",
     "output_type": "stream",
     "text": [
      "\n",
      " 33%|███████████████████████████▋                                                       | 2/6 [03:49<07:38, 114.53s/it]"
     ]
    },
    {
     "name": "stdout",
     "output_type": "stream",
     "text": [
      "Soybeans deltat = 2\n"
     ]
    },
    {
     "name": "stderr",
     "output_type": "stream",
     "text": [
      "\n",
      " 50%|█████████████████████████████████████████▌                                         | 3/6 [05:42<05:42, 114.28s/it]"
     ]
    },
    {
     "name": "stdout",
     "output_type": "stream",
     "text": [
      "Soybeans deltat = 3\n"
     ]
    },
    {
     "name": "stderr",
     "output_type": "stream",
     "text": [
      "\n",
      " 67%|███████████████████████████████████████████████████████▎                           | 4/6 [07:37<03:48, 114.40s/it]"
     ]
    },
    {
     "name": "stdout",
     "output_type": "stream",
     "text": [
      "Soybeans deltat = 4\n"
     ]
    },
    {
     "name": "stderr",
     "output_type": "stream",
     "text": [
      "\n",
      " 83%|█████████████████████████████████████████████████████████████████████▏             | 5/6 [09:32<01:54, 114.70s/it]"
     ]
    },
    {
     "name": "stdout",
     "output_type": "stream",
     "text": [
      "Soybeans deltat = 5\n"
     ]
    },
    {
     "name": "stderr",
     "output_type": "stream",
     "text": [
      "\n",
      "100%|███████████████████████████████████████████████████████████████████████████████████| 6/6 [11:27<00:00, 114.55s/it]\n",
      " 71%|███████████████████████████████████████████████████████████▎                       | 5/7 [57:40<23:01, 690.86s/it]\n",
      "  0%|                                                                                            | 0/6 [00:00<?, ?it/s]"
     ]
    },
    {
     "name": "stdout",
     "output_type": "stream",
     "text": [
      "Soybeans deltat = 0\n"
     ]
    },
    {
     "name": "stderr",
     "output_type": "stream",
     "text": [
      "\n",
      " 17%|█████████████▊                                                                     | 1/6 [01:55<09:38, 115.77s/it]"
     ]
    },
    {
     "name": "stdout",
     "output_type": "stream",
     "text": [
      "Soybeans deltat = 1\n"
     ]
    },
    {
     "name": "stderr",
     "output_type": "stream",
     "text": [
      "\n",
      " 33%|███████████████████████████▋                                                       | 2/6 [03:54<07:46, 116.62s/it]"
     ]
    },
    {
     "name": "stdout",
     "output_type": "stream",
     "text": [
      "Soybeans deltat = 2\n"
     ]
    },
    {
     "name": "stderr",
     "output_type": "stream",
     "text": [
      "\n",
      " 50%|█████████████████████████████████████████▌                                         | 3/6 [05:49<05:48, 116.18s/it]"
     ]
    },
    {
     "name": "stdout",
     "output_type": "stream",
     "text": [
      "Soybeans deltat = 3\n"
     ]
    },
    {
     "name": "stderr",
     "output_type": "stream",
     "text": [
      "\n",
      " 67%|███████████████████████████████████████████████████████▎                           | 4/6 [07:40<03:48, 114.47s/it]"
     ]
    },
    {
     "name": "stdout",
     "output_type": "stream",
     "text": [
      "Soybeans deltat = 4\n"
     ]
    },
    {
     "name": "stderr",
     "output_type": "stream",
     "text": [
      "\n",
      " 83%|█████████████████████████████████████████████████████████████████████▏             | 5/6 [09:34<01:54, 114.42s/it]"
     ]
    },
    {
     "name": "stdout",
     "output_type": "stream",
     "text": [
      "Soybeans deltat = 5\n"
     ]
    },
    {
     "name": "stderr",
     "output_type": "stream",
     "text": [
      "\n",
      "100%|███████████████████████████████████████████████████████████████████████████████████| 6/6 [11:29<00:00, 114.86s/it]\n",
      " 86%|█████████████████████████████████████████████████████████████████████▍           | 6/7 [1:09:09<11:30, 690.35s/it]\n",
      "  0%|                                                                                            | 0/6 [00:00<?, ?it/s]"
     ]
    },
    {
     "name": "stdout",
     "output_type": "stream",
     "text": [
      "Soybeans deltat = 0\n"
     ]
    },
    {
     "name": "stderr",
     "output_type": "stream",
     "text": [
      "\n",
      " 17%|█████████████▊                                                                     | 1/6 [01:51<09:15, 111.10s/it]"
     ]
    },
    {
     "name": "stdout",
     "output_type": "stream",
     "text": [
      "Soybeans deltat = 1\n"
     ]
    },
    {
     "name": "stderr",
     "output_type": "stream",
     "text": [
      "\n",
      " 33%|███████████████████████████▋                                                       | 2/6 [03:42<07:24, 111.08s/it]"
     ]
    },
    {
     "name": "stdout",
     "output_type": "stream",
     "text": [
      "Soybeans deltat = 2\n"
     ]
    },
    {
     "name": "stderr",
     "output_type": "stream",
     "text": [
      "\n",
      " 50%|█████████████████████████████████████████▌                                         | 3/6 [05:34<05:34, 111.55s/it]"
     ]
    },
    {
     "name": "stdout",
     "output_type": "stream",
     "text": [
      "Soybeans deltat = 3\n"
     ]
    },
    {
     "name": "stderr",
     "output_type": "stream",
     "text": [
      "\n",
      " 67%|███████████████████████████████████████████████████████▎                           | 4/6 [07:28<03:44, 112.08s/it]"
     ]
    },
    {
     "name": "stdout",
     "output_type": "stream",
     "text": [
      "Soybeans deltat = 4\n"
     ]
    },
    {
     "name": "stderr",
     "output_type": "stream",
     "text": [
      "\n",
      " 83%|█████████████████████████████████████████████████████████████████████▏             | 5/6 [09:22<01:52, 112.77s/it]"
     ]
    },
    {
     "name": "stdout",
     "output_type": "stream",
     "text": [
      "Soybeans deltat = 5\n"
     ]
    },
    {
     "name": "stderr",
     "output_type": "stream",
     "text": [
      "\n",
      "100%|███████████████████████████████████████████████████████████████████████████████████| 6/6 [11:14<00:00, 112.42s/it]\n",
      "100%|█████████████████████████████████████████████████████████████████████████████████| 7/7 [1:20:23<00:00, 689.13s/it]\n"
     ]
    },
    {
     "name": "stdout",
     "output_type": "stream",
     "text": [
      "Maize\n"
     ]
    },
    {
     "name": "stderr",
     "output_type": "stream",
     "text": [
      "  0%|                                                                                            | 0/7 [00:00<?, ?it/s]\n",
      "  0%|                                                                                            | 0/6 [00:00<?, ?it/s]"
     ]
    },
    {
     "name": "stdout",
     "output_type": "stream",
     "text": [
      "Maize deltat = 0\n"
     ]
    },
    {
     "name": "stderr",
     "output_type": "stream",
     "text": [
      "\n",
      " 17%|█████████████▊                                                                     | 1/6 [01:51<09:19, 111.99s/it]"
     ]
    },
    {
     "name": "stdout",
     "output_type": "stream",
     "text": [
      "Maize deltat = 1\n"
     ]
    },
    {
     "name": "stderr",
     "output_type": "stream",
     "text": [
      "\n",
      " 33%|███████████████████████████▋                                                       | 2/6 [03:44<07:28, 112.13s/it]"
     ]
    },
    {
     "name": "stdout",
     "output_type": "stream",
     "text": [
      "Maize deltat = 2\n"
     ]
    },
    {
     "name": "stderr",
     "output_type": "stream",
     "text": [
      "\n",
      " 50%|█████████████████████████████████████████▌                                         | 3/6 [05:37<05:37, 112.53s/it]"
     ]
    },
    {
     "name": "stdout",
     "output_type": "stream",
     "text": [
      "Maize deltat = 3\n"
     ]
    },
    {
     "name": "stderr",
     "output_type": "stream",
     "text": [
      "\n",
      " 67%|███████████████████████████████████████████████████████▎                           | 4/6 [07:29<03:44, 112.19s/it]"
     ]
    },
    {
     "name": "stdout",
     "output_type": "stream",
     "text": [
      "Maize deltat = 4\n"
     ]
    },
    {
     "name": "stderr",
     "output_type": "stream",
     "text": [
      "\n",
      " 83%|█████████████████████████████████████████████████████████████████████▏             | 5/6 [09:20<01:51, 111.79s/it]"
     ]
    },
    {
     "name": "stdout",
     "output_type": "stream",
     "text": [
      "Maize deltat = 5\n"
     ]
    },
    {
     "name": "stderr",
     "output_type": "stream",
     "text": [
      "\n",
      "100%|███████████████████████████████████████████████████████████████████████████████████| 6/6 [11:12<00:00, 112.07s/it]\n",
      " 14%|███████████▌                                                                     | 1/7 [11:12<1:07:14, 672.45s/it]\n",
      "  0%|                                                                                            | 0/6 [00:00<?, ?it/s]"
     ]
    },
    {
     "name": "stdout",
     "output_type": "stream",
     "text": [
      "Maize deltat = 0\n"
     ]
    },
    {
     "name": "stderr",
     "output_type": "stream",
     "text": [
      "\n",
      " 17%|█████████████▊                                                                     | 1/6 [01:57<09:45, 117.06s/it]"
     ]
    },
    {
     "name": "stdout",
     "output_type": "stream",
     "text": [
      "Maize deltat = 1\n"
     ]
    },
    {
     "name": "stderr",
     "output_type": "stream",
     "text": [
      "\n",
      " 33%|███████████████████████████▋                                                       | 2/6 [03:51<07:45, 116.37s/it]"
     ]
    },
    {
     "name": "stdout",
     "output_type": "stream",
     "text": [
      "Maize deltat = 2\n"
     ]
    },
    {
     "name": "stderr",
     "output_type": "stream",
     "text": [
      "\n",
      " 50%|█████████████████████████████████████████▌                                         | 3/6 [05:39<05:41, 113.75s/it]"
     ]
    },
    {
     "name": "stdout",
     "output_type": "stream",
     "text": [
      "Maize deltat = 3\n"
     ]
    },
    {
     "name": "stderr",
     "output_type": "stream",
     "text": [
      "\n",
      " 67%|███████████████████████████████████████████████████████▎                           | 4/6 [07:33<03:47, 113.74s/it]"
     ]
    },
    {
     "name": "stdout",
     "output_type": "stream",
     "text": [
      "Maize deltat = 4\n"
     ]
    },
    {
     "name": "stderr",
     "output_type": "stream",
     "text": [
      "\n",
      " 83%|█████████████████████████████████████████████████████████████████████▏             | 5/6 [09:25<01:53, 113.34s/it]"
     ]
    },
    {
     "name": "stdout",
     "output_type": "stream",
     "text": [
      "Maize deltat = 5\n"
     ]
    },
    {
     "name": "stderr",
     "output_type": "stream",
     "text": [
      "\n",
      "100%|███████████████████████████████████████████████████████████████████████████████████| 6/6 [11:17<00:00, 112.96s/it]\n",
      " 29%|███████████████████████▋                                                           | 2/7 [22:30<56:10, 674.04s/it]\n",
      "  0%|                                                                                            | 0/6 [00:00<?, ?it/s]"
     ]
    },
    {
     "name": "stdout",
     "output_type": "stream",
     "text": [
      "Maize deltat = 0\n"
     ]
    },
    {
     "name": "stderr",
     "output_type": "stream",
     "text": [
      "\n",
      " 17%|█████████████▊                                                                     | 1/6 [01:51<09:19, 111.83s/it]"
     ]
    },
    {
     "name": "stdout",
     "output_type": "stream",
     "text": [
      "Maize deltat = 1\n"
     ]
    },
    {
     "name": "stderr",
     "output_type": "stream",
     "text": [
      "\n",
      " 33%|███████████████████████████▋                                                       | 2/6 [03:43<07:27, 111.90s/it]"
     ]
    },
    {
     "name": "stdout",
     "output_type": "stream",
     "text": [
      "Maize deltat = 2\n"
     ]
    },
    {
     "name": "stderr",
     "output_type": "stream",
     "text": [
      "\n",
      " 50%|█████████████████████████████████████████▌                                         | 3/6 [05:35<05:35, 111.88s/it]"
     ]
    },
    {
     "name": "stdout",
     "output_type": "stream",
     "text": [
      "Maize deltat = 3\n"
     ]
    },
    {
     "name": "stderr",
     "output_type": "stream",
     "text": [
      "\n",
      " 67%|███████████████████████████████████████████████████████▎                           | 4/6 [07:30<03:45, 112.66s/it]"
     ]
    },
    {
     "name": "stdout",
     "output_type": "stream",
     "text": [
      "Maize deltat = 4\n"
     ]
    },
    {
     "name": "stderr",
     "output_type": "stream",
     "text": [
      "\n",
      " 83%|█████████████████████████████████████████████████████████████████████▏             | 5/6 [09:20<01:52, 112.02s/it]"
     ]
    },
    {
     "name": "stdout",
     "output_type": "stream",
     "text": [
      "Maize deltat = 5\n"
     ]
    },
    {
     "name": "stderr",
     "output_type": "stream",
     "text": [
      "\n",
      "100%|███████████████████████████████████████████████████████████████████████████████████| 6/6 [11:12<00:00, 112.07s/it]\n",
      " 43%|███████████████████████████████████▌                                               | 3/7 [33:42<44:54, 673.56s/it]\n",
      "  0%|                                                                                            | 0/6 [00:00<?, ?it/s]"
     ]
    },
    {
     "name": "stdout",
     "output_type": "stream",
     "text": [
      "Maize deltat = 0\n"
     ]
    },
    {
     "name": "stderr",
     "output_type": "stream",
     "text": [
      "\n",
      " 17%|█████████████▊                                                                     | 1/6 [01:51<09:15, 111.19s/it]"
     ]
    },
    {
     "name": "stdout",
     "output_type": "stream",
     "text": [
      "Maize deltat = 1\n"
     ]
    },
    {
     "name": "stderr",
     "output_type": "stream",
     "text": [
      "\n",
      " 33%|███████████████████████████▋                                                       | 2/6 [03:42<07:24, 111.09s/it]"
     ]
    },
    {
     "name": "stdout",
     "output_type": "stream",
     "text": [
      "Maize deltat = 2\n"
     ]
    },
    {
     "name": "stderr",
     "output_type": "stream",
     "text": [
      "\n",
      " 50%|█████████████████████████████████████████▌                                         | 3/6 [05:34<05:34, 111.36s/it]"
     ]
    },
    {
     "name": "stdout",
     "output_type": "stream",
     "text": [
      "Maize deltat = 3\n"
     ]
    },
    {
     "name": "stderr",
     "output_type": "stream",
     "text": [
      "\n",
      " 67%|███████████████████████████████████████████████████████▎                           | 4/6 [07:25<03:43, 111.52s/it]"
     ]
    },
    {
     "name": "stdout",
     "output_type": "stream",
     "text": [
      "Maize deltat = 4\n"
     ]
    },
    {
     "name": "stderr",
     "output_type": "stream",
     "text": [
      "\n",
      " 83%|█████████████████████████████████████████████████████████████████████▏             | 5/6 [09:21<01:52, 112.60s/it]"
     ]
    },
    {
     "name": "stdout",
     "output_type": "stream",
     "text": [
      "Maize deltat = 5\n"
     ]
    },
    {
     "name": "stderr",
     "output_type": "stream",
     "text": [
      "\n",
      "100%|███████████████████████████████████████████████████████████████████████████████████| 6/6 [11:14<00:00, 112.43s/it]\n",
      " 57%|███████████████████████████████████████████████▍                                   | 4/7 [44:57<33:41, 673.87s/it]\n",
      "  0%|                                                                                            | 0/6 [00:00<?, ?it/s]"
     ]
    },
    {
     "name": "stdout",
     "output_type": "stream",
     "text": [
      "Maize deltat = 0\n"
     ]
    },
    {
     "name": "stderr",
     "output_type": "stream",
     "text": [
      "\n",
      " 17%|█████████████▊                                                                     | 1/6 [01:51<09:16, 111.20s/it]"
     ]
    },
    {
     "name": "stdout",
     "output_type": "stream",
     "text": [
      "Maize deltat = 1\n"
     ]
    },
    {
     "name": "stderr",
     "output_type": "stream",
     "text": [
      "\n",
      " 33%|███████████████████████████▋                                                       | 2/6 [03:42<07:24, 111.15s/it]"
     ]
    },
    {
     "name": "stdout",
     "output_type": "stream",
     "text": [
      "Maize deltat = 2\n"
     ]
    },
    {
     "name": "stderr",
     "output_type": "stream",
     "text": [
      "\n",
      " 50%|█████████████████████████████████████████▌                                         | 3/6 [05:32<05:33, 111.02s/it]"
     ]
    },
    {
     "name": "stdout",
     "output_type": "stream",
     "text": [
      "Maize deltat = 3\n"
     ]
    },
    {
     "name": "stderr",
     "output_type": "stream",
     "text": [
      "\n",
      " 67%|███████████████████████████████████████████████████████▎                           | 4/6 [07:23<03:41, 110.88s/it]"
     ]
    },
    {
     "name": "stdout",
     "output_type": "stream",
     "text": [
      "Maize deltat = 4\n"
     ]
    },
    {
     "name": "stderr",
     "output_type": "stream",
     "text": [
      "\n",
      " 83%|█████████████████████████████████████████████████████████████████████▏             | 5/6 [09:12<01:50, 110.25s/it]"
     ]
    },
    {
     "name": "stdout",
     "output_type": "stream",
     "text": [
      "Maize deltat = 5\n"
     ]
    },
    {
     "name": "stderr",
     "output_type": "stream",
     "text": [
      "\n",
      "100%|███████████████████████████████████████████████████████████████████████████████████| 6/6 [11:02<00:00, 110.44s/it]\n",
      " 71%|███████████████████████████████████████████████████████████▎                       | 5/7 [55:59<22:21, 670.51s/it]\n",
      "  0%|                                                                                            | 0/6 [00:00<?, ?it/s]"
     ]
    },
    {
     "name": "stdout",
     "output_type": "stream",
     "text": [
      "Maize deltat = 0\n"
     ]
    },
    {
     "name": "stderr",
     "output_type": "stream",
     "text": [
      "\n",
      " 17%|█████████████▊                                                                     | 1/6 [01:49<09:06, 109.35s/it]"
     ]
    },
    {
     "name": "stdout",
     "output_type": "stream",
     "text": [
      "Maize deltat = 1\n"
     ]
    },
    {
     "name": "stderr",
     "output_type": "stream",
     "text": [
      "\n",
      " 33%|███████████████████████████▋                                                       | 2/6 [03:39<07:17, 109.47s/it]"
     ]
    },
    {
     "name": "stdout",
     "output_type": "stream",
     "text": [
      "Maize deltat = 2\n"
     ]
    },
    {
     "name": "stderr",
     "output_type": "stream",
     "text": [
      "\n",
      " 50%|█████████████████████████████████████████▌                                         | 3/6 [05:28<05:28, 109.54s/it]"
     ]
    },
    {
     "name": "stdout",
     "output_type": "stream",
     "text": [
      "Maize deltat = 3\n"
     ]
    },
    {
     "name": "stderr",
     "output_type": "stream",
     "text": [
      "\n",
      " 67%|███████████████████████████████████████████████████████▎                           | 4/6 [07:18<03:39, 109.53s/it]"
     ]
    },
    {
     "name": "stdout",
     "output_type": "stream",
     "text": [
      "Maize deltat = 4\n"
     ]
    },
    {
     "name": "stderr",
     "output_type": "stream",
     "text": [
      "\n",
      " 83%|█████████████████████████████████████████████████████████████████████▏             | 5/6 [09:07<01:49, 109.57s/it]"
     ]
    },
    {
     "name": "stdout",
     "output_type": "stream",
     "text": [
      "Maize deltat = 5\n"
     ]
    },
    {
     "name": "stderr",
     "output_type": "stream",
     "text": [
      "\n",
      "100%|███████████████████████████████████████████████████████████████████████████████████| 6/6 [10:57<00:00, 109.62s/it]\n",
      " 86%|█████████████████████████████████████████████████████████████████████▍           | 6/7 [1:06:57<11:06, 666.68s/it]\n",
      "  0%|                                                                                            | 0/6 [00:00<?, ?it/s]"
     ]
    },
    {
     "name": "stdout",
     "output_type": "stream",
     "text": [
      "Maize deltat = 0\n"
     ]
    },
    {
     "name": "stderr",
     "output_type": "stream",
     "text": [
      "\n",
      " 17%|█████████████▊                                                                     | 1/6 [01:49<09:08, 109.76s/it]"
     ]
    },
    {
     "name": "stdout",
     "output_type": "stream",
     "text": [
      "Maize deltat = 1\n"
     ]
    },
    {
     "name": "stderr",
     "output_type": "stream",
     "text": [
      "\n",
      " 33%|███████████████████████████▋                                                       | 2/6 [03:39<07:18, 109.73s/it]"
     ]
    },
    {
     "name": "stdout",
     "output_type": "stream",
     "text": [
      "Maize deltat = 2\n"
     ]
    },
    {
     "name": "stderr",
     "output_type": "stream",
     "text": [
      "\n",
      " 50%|█████████████████████████████████████████▌                                         | 3/6 [05:28<05:29, 109.67s/it]"
     ]
    },
    {
     "name": "stdout",
     "output_type": "stream",
     "text": [
      "Maize deltat = 3\n"
     ]
    },
    {
     "name": "stderr",
     "output_type": "stream",
     "text": [
      "\n",
      " 67%|███████████████████████████████████████████████████████▎                           | 4/6 [07:18<03:39, 109.60s/it]"
     ]
    },
    {
     "name": "stdout",
     "output_type": "stream",
     "text": [
      "Maize deltat = 4\n"
     ]
    },
    {
     "name": "stderr",
     "output_type": "stream",
     "text": [
      "\n",
      " 83%|█████████████████████████████████████████████████████████████████████▏             | 5/6 [09:08<01:49, 109.63s/it]"
     ]
    },
    {
     "name": "stdout",
     "output_type": "stream",
     "text": [
      "Maize deltat = 5\n"
     ]
    },
    {
     "name": "stderr",
     "output_type": "stream",
     "text": [
      "\n",
      "100%|███████████████████████████████████████████████████████████████████████████████████| 6/6 [10:58<00:00, 109.68s/it]\n",
      "100%|█████████████████████████████████████████████████████████████████████████████████| 7/7 [1:17:55<00:00, 667.96s/it]\n"
     ]
    },
    {
     "name": "stdout",
     "output_type": "stream",
     "text": [
      "Cotton\n"
     ]
    },
    {
     "name": "stderr",
     "output_type": "stream",
     "text": [
      "  0%|                                                                                            | 0/7 [00:00<?, ?it/s]\n",
      "  0%|                                                                                            | 0/6 [00:00<?, ?it/s]"
     ]
    },
    {
     "name": "stdout",
     "output_type": "stream",
     "text": [
      "Cotton deltat = 0\n"
     ]
    },
    {
     "name": "stderr",
     "output_type": "stream",
     "text": [
      "\n",
      " 17%|█████████████▊                                                                     | 1/6 [01:49<09:08, 109.73s/it]"
     ]
    },
    {
     "name": "stdout",
     "output_type": "stream",
     "text": [
      "Cotton deltat = 1\n"
     ]
    },
    {
     "name": "stderr",
     "output_type": "stream",
     "text": [
      "\n",
      " 33%|███████████████████████████▋                                                       | 2/6 [03:40<07:20, 110.18s/it]"
     ]
    },
    {
     "name": "stdout",
     "output_type": "stream",
     "text": [
      "Cotton deltat = 2\n"
     ]
    },
    {
     "name": "stderr",
     "output_type": "stream",
     "text": [
      "\n",
      " 50%|█████████████████████████████████████████▌                                         | 3/6 [05:34<05:33, 111.25s/it]"
     ]
    },
    {
     "name": "stdout",
     "output_type": "stream",
     "text": [
      "Cotton deltat = 3\n"
     ]
    },
    {
     "name": "stderr",
     "output_type": "stream",
     "text": [
      "\n",
      " 67%|███████████████████████████████████████████████████████▎                           | 4/6 [07:28<03:44, 112.04s/it]"
     ]
    },
    {
     "name": "stdout",
     "output_type": "stream",
     "text": [
      "Cotton deltat = 4\n"
     ]
    },
    {
     "name": "stderr",
     "output_type": "stream",
     "text": [
      "\n",
      " 83%|█████████████████████████████████████████████████████████████████████▏             | 5/6 [09:21<01:52, 112.41s/it]"
     ]
    },
    {
     "name": "stdout",
     "output_type": "stream",
     "text": [
      "Cotton deltat = 5\n"
     ]
    },
    {
     "name": "stderr",
     "output_type": "stream",
     "text": [
      "\n",
      "100%|███████████████████████████████████████████████████████████████████████████████████| 6/6 [11:21<00:00, 113.54s/it]\n",
      " 14%|███████████▌                                                                     | 1/7 [11:21<1:08:07, 681.26s/it]\n",
      "  0%|                                                                                            | 0/6 [00:00<?, ?it/s]"
     ]
    },
    {
     "name": "stdout",
     "output_type": "stream",
     "text": [
      "Cotton deltat = 0\n"
     ]
    },
    {
     "name": "stderr",
     "output_type": "stream",
     "text": [
      "\n",
      " 17%|█████████████▊                                                                     | 1/6 [01:55<09:35, 115.10s/it]"
     ]
    },
    {
     "name": "stdout",
     "output_type": "stream",
     "text": [
      "Cotton deltat = 1\n"
     ]
    },
    {
     "name": "stderr",
     "output_type": "stream",
     "text": [
      "\n",
      " 33%|███████████████████████████▋                                                       | 2/6 [03:49<07:39, 114.75s/it]"
     ]
    },
    {
     "name": "stdout",
     "output_type": "stream",
     "text": [
      "Cotton deltat = 2\n"
     ]
    },
    {
     "name": "stderr",
     "output_type": "stream",
     "text": [
      "\n",
      " 50%|█████████████████████████████████████████▌                                         | 3/6 [05:41<05:42, 114.09s/it]"
     ]
    },
    {
     "name": "stdout",
     "output_type": "stream",
     "text": [
      "Cotton deltat = 3\n"
     ]
    },
    {
     "name": "stderr",
     "output_type": "stream",
     "text": [
      "\n",
      " 67%|███████████████████████████████████████████████████████▎                           | 4/6 [07:38<03:50, 115.05s/it]"
     ]
    },
    {
     "name": "stdout",
     "output_type": "stream",
     "text": [
      "Cotton deltat = 4\n"
     ]
    },
    {
     "name": "stderr",
     "output_type": "stream",
     "text": [
      "\n",
      " 83%|█████████████████████████████████████████████████████████████████████▏             | 5/6 [09:38<01:56, 116.33s/it]"
     ]
    },
    {
     "name": "stdout",
     "output_type": "stream",
     "text": [
      "Cotton deltat = 5\n"
     ]
    },
    {
     "name": "stderr",
     "output_type": "stream",
     "text": [
      "\n",
      "100%|███████████████████████████████████████████████████████████████████████████████████| 6/6 [11:35<00:00, 115.94s/it]\n",
      " 29%|███████████████████████▋                                                           | 2/7 [22:56<57:07, 685.57s/it]\n",
      "  0%|                                                                                            | 0/6 [00:00<?, ?it/s]"
     ]
    },
    {
     "name": "stdout",
     "output_type": "stream",
     "text": [
      "Cotton deltat = 0\n"
     ]
    },
    {
     "name": "stderr",
     "output_type": "stream",
     "text": [
      "\n",
      " 17%|█████████████▊                                                                     | 1/6 [01:52<09:22, 112.51s/it]"
     ]
    },
    {
     "name": "stdout",
     "output_type": "stream",
     "text": [
      "Cotton deltat = 1\n"
     ]
    },
    {
     "name": "stderr",
     "output_type": "stream",
     "text": [
      "\n",
      " 33%|███████████████████████████▋                                                       | 2/6 [03:44<07:29, 112.25s/it]"
     ]
    },
    {
     "name": "stdout",
     "output_type": "stream",
     "text": [
      "Cotton deltat = 2\n"
     ]
    },
    {
     "name": "stderr",
     "output_type": "stream",
     "text": [
      "\n",
      " 50%|█████████████████████████████████████████▌                                         | 3/6 [05:37<05:37, 112.47s/it]"
     ]
    },
    {
     "name": "stdout",
     "output_type": "stream",
     "text": [
      "Cotton deltat = 3\n"
     ]
    },
    {
     "name": "stderr",
     "output_type": "stream",
     "text": [
      "\n",
      " 67%|███████████████████████████████████████████████████████▎                           | 4/6 [07:28<03:44, 112.26s/it]"
     ]
    },
    {
     "name": "stdout",
     "output_type": "stream",
     "text": [
      "Cotton deltat = 4\n"
     ]
    },
    {
     "name": "stderr",
     "output_type": "stream",
     "text": [
      "\n",
      " 83%|█████████████████████████████████████████████████████████████████████▏             | 5/6 [09:19<01:51, 111.90s/it]"
     ]
    },
    {
     "name": "stdout",
     "output_type": "stream",
     "text": [
      "Cotton deltat = 5\n"
     ]
    },
    {
     "name": "stderr",
     "output_type": "stream",
     "text": [
      "\n",
      "100%|███████████████████████████████████████████████████████████████████████████████████| 6/6 [11:10<00:00, 111.80s/it]\n",
      " 43%|███████████████████████████████████▌                                               | 3/7 [34:07<45:24, 681.14s/it]\n",
      "  0%|                                                                                            | 0/6 [00:00<?, ?it/s]"
     ]
    },
    {
     "name": "stdout",
     "output_type": "stream",
     "text": [
      "Cotton deltat = 0\n"
     ]
    },
    {
     "name": "stderr",
     "output_type": "stream",
     "text": [
      "\n",
      " 17%|█████████████▊                                                                     | 1/6 [01:50<09:12, 110.51s/it]"
     ]
    },
    {
     "name": "stdout",
     "output_type": "stream",
     "text": [
      "Cotton deltat = 1\n"
     ]
    },
    {
     "name": "stderr",
     "output_type": "stream",
     "text": [
      "\n",
      " 33%|███████████████████████████▋                                                       | 2/6 [03:40<07:20, 110.24s/it]"
     ]
    },
    {
     "name": "stdout",
     "output_type": "stream",
     "text": [
      "Cotton deltat = 2\n"
     ]
    },
    {
     "name": "stderr",
     "output_type": "stream",
     "text": [
      "\n",
      " 50%|█████████████████████████████████████████▌                                         | 3/6 [05:29<05:30, 110.11s/it]"
     ]
    },
    {
     "name": "stdout",
     "output_type": "stream",
     "text": [
      "Cotton deltat = 3\n"
     ]
    },
    {
     "name": "stderr",
     "output_type": "stream",
     "text": [
      "\n",
      " 67%|███████████████████████████████████████████████████████▎                           | 4/6 [07:19<03:40, 110.09s/it]"
     ]
    },
    {
     "name": "stdout",
     "output_type": "stream",
     "text": [
      "Cotton deltat = 4\n"
     ]
    },
    {
     "name": "stderr",
     "output_type": "stream",
     "text": [
      "\n",
      " 83%|█████████████████████████████████████████████████████████████████████▏             | 5/6 [09:09<01:49, 109.97s/it]"
     ]
    },
    {
     "name": "stdout",
     "output_type": "stream",
     "text": [
      "Cotton deltat = 5\n"
     ]
    },
    {
     "name": "stderr",
     "output_type": "stream",
     "text": [
      "\n",
      "100%|███████████████████████████████████████████████████████████████████████████████████| 6/6 [10:59<00:00, 109.89s/it]\n",
      " 57%|███████████████████████████████████████████████▍                                   | 4/7 [45:07<33:43, 674.60s/it]\n",
      "  0%|                                                                                            | 0/6 [00:00<?, ?it/s]"
     ]
    },
    {
     "name": "stdout",
     "output_type": "stream",
     "text": [
      "Cotton deltat = 0\n"
     ]
    },
    {
     "name": "stderr",
     "output_type": "stream",
     "text": [
      "\n",
      " 17%|█████████████▊                                                                     | 1/6 [01:50<09:11, 110.20s/it]"
     ]
    },
    {
     "name": "stdout",
     "output_type": "stream",
     "text": [
      "Cotton deltat = 1\n"
     ]
    },
    {
     "name": "stderr",
     "output_type": "stream",
     "text": [
      "\n",
      " 33%|███████████████████████████▋                                                       | 2/6 [04:13<08:00, 120.20s/it]"
     ]
    },
    {
     "name": "stdout",
     "output_type": "stream",
     "text": [
      "Cotton deltat = 2\n"
     ]
    },
    {
     "name": "stderr",
     "output_type": "stream",
     "text": [
      "\n",
      " 50%|█████████████████████████████████████████▌                                         | 3/6 [07:09<06:50, 136.78s/it]"
     ]
    },
    {
     "name": "stdout",
     "output_type": "stream",
     "text": [
      "Cotton deltat = 3\n"
     ]
    },
    {
     "name": "stderr",
     "output_type": "stream",
     "text": [
      "\n",
      " 67%|███████████████████████████████████████████████████████▎                           | 4/6 [09:01<04:19, 129.55s/it]"
     ]
    },
    {
     "name": "stdout",
     "output_type": "stream",
     "text": [
      "Cotton deltat = 4\n"
     ]
    },
    {
     "name": "stderr",
     "output_type": "stream",
     "text": [
      "\n",
      " 83%|█████████████████████████████████████████████████████████████████████▏             | 5/6 [10:53<02:04, 124.28s/it]"
     ]
    },
    {
     "name": "stdout",
     "output_type": "stream",
     "text": [
      "Cotton deltat = 5\n"
     ]
    },
    {
     "name": "stderr",
     "output_type": "stream",
     "text": [
      "\n",
      "100%|███████████████████████████████████████████████████████████████████████████████████| 6/6 [12:45<00:00, 127.53s/it]\n",
      " 71%|███████████████████████████████████████████████████████████▎                       | 5/7 [57:52<23:23, 701.78s/it]\n",
      "  0%|                                                                                            | 0/6 [00:00<?, ?it/s]"
     ]
    },
    {
     "name": "stdout",
     "output_type": "stream",
     "text": [
      "Cotton deltat = 0\n"
     ]
    },
    {
     "name": "stderr",
     "output_type": "stream",
     "text": [
      "\n",
      " 17%|█████████████▊                                                                     | 1/6 [01:53<09:29, 113.82s/it]"
     ]
    },
    {
     "name": "stdout",
     "output_type": "stream",
     "text": [
      "Cotton deltat = 1\n"
     ]
    },
    {
     "name": "stderr",
     "output_type": "stream",
     "text": [
      "\n",
      " 33%|███████████████████████████▋                                                       | 2/6 [03:46<07:34, 113.56s/it]"
     ]
    },
    {
     "name": "stdout",
     "output_type": "stream",
     "text": [
      "Cotton deltat = 2\n"
     ]
    },
    {
     "name": "stderr",
     "output_type": "stream",
     "text": [
      "\n",
      " 50%|█████████████████████████████████████████▌                                         | 3/6 [05:41<05:41, 113.84s/it]"
     ]
    },
    {
     "name": "stdout",
     "output_type": "stream",
     "text": [
      "Cotton deltat = 3\n"
     ]
    },
    {
     "name": "stderr",
     "output_type": "stream",
     "text": [
      "\n",
      " 67%|███████████████████████████████████████████████████████▎                           | 4/6 [07:33<03:46, 113.43s/it]"
     ]
    },
    {
     "name": "stdout",
     "output_type": "stream",
     "text": [
      "Cotton deltat = 4\n"
     ]
    },
    {
     "name": "stderr",
     "output_type": "stream",
     "text": [
      "\n",
      " 83%|█████████████████████████████████████████████████████████████████████▏             | 5/6 [09:29<01:54, 114.23s/it]"
     ]
    },
    {
     "name": "stdout",
     "output_type": "stream",
     "text": [
      "Cotton deltat = 5\n"
     ]
    },
    {
     "name": "stderr",
     "output_type": "stream",
     "text": [
      "\n",
      "100%|███████████████████████████████████████████████████████████████████████████████████| 6/6 [11:30<00:00, 115.00s/it]\n",
      " 86%|█████████████████████████████████████████████████████████████████████▍           | 6/7 [1:09:22<11:38, 698.25s/it]\n",
      "  0%|                                                                                            | 0/6 [00:00<?, ?it/s]"
     ]
    },
    {
     "name": "stdout",
     "output_type": "stream",
     "text": [
      "Cotton deltat = 0\n"
     ]
    },
    {
     "name": "stderr",
     "output_type": "stream",
     "text": [
      "\n",
      " 17%|█████████████▊                                                                     | 1/6 [02:01<10:07, 121.51s/it]"
     ]
    },
    {
     "name": "stdout",
     "output_type": "stream",
     "text": [
      "Cotton deltat = 1\n"
     ]
    },
    {
     "name": "stderr",
     "output_type": "stream",
     "text": [
      "\n",
      " 33%|███████████████████████████▋                                                       | 2/6 [03:54<07:56, 119.08s/it]"
     ]
    },
    {
     "name": "stdout",
     "output_type": "stream",
     "text": [
      "Cotton deltat = 2\n"
     ]
    },
    {
     "name": "stderr",
     "output_type": "stream",
     "text": [
      "\n",
      " 50%|█████████████████████████████████████████▌                                         | 3/6 [05:46<05:50, 116.96s/it]"
     ]
    },
    {
     "name": "stdout",
     "output_type": "stream",
     "text": [
      "Cotton deltat = 3\n"
     ]
    },
    {
     "name": "stderr",
     "output_type": "stream",
     "text": [
      "\n",
      " 67%|███████████████████████████████████████████████████████▎                           | 4/6 [07:38<03:50, 115.27s/it]"
     ]
    },
    {
     "name": "stdout",
     "output_type": "stream",
     "text": [
      "Cotton deltat = 4\n"
     ]
    },
    {
     "name": "stderr",
     "output_type": "stream",
     "text": [
      "\n",
      " 83%|█████████████████████████████████████████████████████████████████████▏             | 5/6 [09:29<01:54, 114.15s/it]"
     ]
    },
    {
     "name": "stdout",
     "output_type": "stream",
     "text": [
      "Cotton deltat = 5\n"
     ]
    },
    {
     "name": "stderr",
     "output_type": "stream",
     "text": [
      "\n",
      "100%|███████████████████████████████████████████████████████████████████████████████████| 6/6 [11:21<00:00, 113.51s/it]\n",
      "100%|█████████████████████████████████████████████████████████████████████████████████| 7/7 [1:20:43<00:00, 691.90s/it]\n"
     ]
    }
   ],
   "source": [
    "# Create output folder\n",
    "if not os.path.exists(outfolder): os.makedirs(outfolder, exist_ok=True)\n",
    "\n",
    "# Read the mask\n",
    "mskarr = xr.open_dataarray(mskfname)\n",
    "    \n",
    "#FIXME: Loop crops here\n",
    "for crop in crops:\n",
    "    print(crop)\n",
    "\n",
    "    # Open calendar and convert it to two-year based indexes. FIXME: Ignoring leap years here\n",
    "    caldata = xr.open_dataset(calfolder+crop+calsuf)\n",
    "    planarr = caldata[planvar]\n",
    "    harvarr = caldata[harvvar]\n",
    "    harvarr = xr.where(harvarr < planarr,harvarr + 365,harvarr) - 1 \n",
    "    \n",
    "    \n",
    "\n",
    "        #FIXME: Loop here\n",
    "        # hyear = hyears[0]\n",
    "    for hyear in tqdm.tqdm(hyears):\n",
    "        for deltat in tqdm.tqdm(deltats):\n",
    "            print(crop + \" deltat = \" + str(deltat))\n",
    "            # Open the climate arrays, concatenating them\n",
    "            temparr = concat_clim(infolder,masterpref,tempsuf,hyear) + deltat\n",
    "            tmaxarr = concat_clim(infolder,masterpref,tmaxsuf,hyear) + deltat\n",
    "            tminarr = concat_clim(infolder,masterpref,tminsuf,hyear) + deltat\n",
    "\n",
    "            temparr = temparr.where(mskarr == 1)\n",
    "            tmaxarr = tmaxarr.where(mskarr == 1)\n",
    "            tminarr = tminarr.where(mskarr == 1)\n",
    "\n",
    "            # Generate a vector of lower T bounds to use as metadata and speed up computation\n",
    "            Tlos = np.arange(Tlo,Thi,Tint)\n",
    "\n",
    "            # Preallocate the arrays that will be filled\n",
    "#             lldims = (\"latitude\",\"longitude\")\n",
    "            lldims = (\"lat\",\"lon\")\n",
    "            coords = [(i,temparr.coords[i].data,temparr.coords[i].attrs) for i in lldims] # Tuples with lat and lon dimension specs\n",
    "\n",
    "            # 2D arrays\n",
    "            tempmean = xr.DataArray(coords = coords, name = \"tempmean\")\n",
    "            tmaxmean = xr.DataArray(coords = coords, name = \"tmaxmean\")\n",
    "            tminmean = xr.DataArray(coords = coords, name = \"tminmean\")\n",
    "\n",
    "            trngmean = xr.DataArray(coords = coords, name = \"trngmean\")\n",
    "\n",
    "            ndayarr = xr.DataArray(coords = coords, name = \"ndays\")\n",
    "\n",
    "            # 2D + tmp arrays\n",
    "            tmp = (\"tmp\",Tlos,{\"long_name\":\"Temperature interval lower bound\",\"units\":\"degC\"})\n",
    "            coords3d = [tmp] + coords\n",
    "            tempdist = xr.DataArray(np.nan, coords = coords3d, name = \"tempdist\")\n",
    "            tempgdds = xr.DataArray(np.nan, coords = coords3d, name = \"tempgdds\")\n",
    "\n",
    "            # This basically creates pointers to the numpy arrays inside the xr.Dataarrays\n",
    "            # We need those for numba to work. An alternative would be passing the .data in the function call\n",
    "            planmat = planarr.data\n",
    "            harvmat = harvarr.data\n",
    "\n",
    "            tempmat = temparr.data\n",
    "            tmaxmat = tmaxarr.data\n",
    "            tminmat = tminarr.data\n",
    "\n",
    "            tempmeanmat = tempmean.data\n",
    "            tmaxmeanmat = tmaxmean.data\n",
    "            tminmeanmat = tminmean.data\n",
    "\n",
    "            trngmeanmat = trngmean.data\n",
    "\n",
    "            ndaymat = ndayarr.data\n",
    "\n",
    "            tempdistmat = tempdist.data\n",
    "            tempgddsmat = tempgdds.data\n",
    "\n",
    "\n",
    "            # Calculates everything.\n",
    "    #         calc_all(planmat,harvmat,tempmat,tmaxmat,tminmat,\n",
    "    #                  tempmeanmat,tmaxmeanmat,tminmeanmat,\n",
    "    #                  trngmeanmat,ndaymat,\n",
    "    #                  tempdistmat,tempgddsmat)\n",
    "                    # Calculates everything.\n",
    "            calc_all_but_tdist(planmat,harvmat,tempmat,tmaxmat,tminmat,\n",
    "                     tempmeanmat,tmaxmeanmat,tminmeanmat,\n",
    "                     trngmeanmat,ndaymat,\n",
    "                     tempgddsmat)\n",
    "\n",
    "\n",
    "            # Merge everything in a single Dataset\n",
    "    #         outdata = xr.merge([tempmean,tmaxmean,tminmean,trngmean,ndayarr,tempdist,tempgdds])\n",
    "            outdata = xr.merge([tempmean,tmaxmean,tminmean,trngmean,ndayarr,tempgdds])\n",
    "            outdata.attrs['Crop'] = crop\n",
    "            outdata.attrs['harvest_year'] = hyear\n",
    "            outdata.attrs['calendar_path'] = calfolder+crop+calsuf\n",
    "            outdata.attrs['climdata_path'] = infolder\n",
    "    #         outdata.attrs['climdata_ex_path'] = infolder+temppref+str(hyear)+\".nc\"\n",
    "\n",
    "            # Write output\n",
    "            outfname = outfolder + crop + \".computed.deltat.\" + str(deltat) + \".\" + str(hyear) + \".nc\"\n",
    "            outdata.to_netcdf(outfname,\n",
    "                      engine = \"netcdf4\",\n",
    "                      encoding = {\"tempgdds\":{'zlib': True, 'complevel': 1}} )\n",
    "    #         outdata.to_netcdf(outfname)\n",
    "    #         outdata.to_netcdf(outfname,\n",
    "    #                   engine = \"netcdf4\",\n",
    "    #                   encoding = {\"tempdist\":{'zlib': True, 'complevel': 1},\n",
    "    #                              \"tempgdds\":{'zlib': True, 'complevel': 1}} )"
   ]
  },
  {
   "cell_type": "code",
   "execution_count": 9,
   "metadata": {},
   "outputs": [],
   "source": [
    "# # Create output folder\n",
    "# if not os.path.exists(outfolder): os.makedirs(outfolder, exist_ok=True)\n",
    "\n",
    "# # Read the mask\n",
    "# mskarr = xr.open_dataarray(mskfname)\n",
    "\n",
    "# #FIXME: Loop crops here\n",
    "# crop = crops[1]\n",
    "# # for crop in crops:\n",
    "# print(crop)\n",
    "\n",
    "# # Open calendar and convert it to two-year based indexes. FIXME: Ignoring leap years here\n",
    "# caldata = xr.open_dataset(calfolder+crop+calsuf)\n",
    "# planarr = caldata[planvar]\n",
    "# harvarr = caldata[harvvar]\n",
    "# harvarr = xr.where(harvarr < planarr,harvarr + 365,harvarr) - 1 \n",
    "\n",
    "# #FIXME: Loop here\n",
    "# hyear = hyears[0]\n",
    "# #     for hyear in tqdm.tqdm(hyears):\n",
    "# # Open the climate arrays, concatenating them\n",
    "# temparr = concat_clim(infolder,masterpref,tempsuf,hyear)\n",
    "# tmaxarr = concat_clim(infolder,masterpref,tmaxsuf,hyear)\n",
    "# tminarr = concat_clim(infolder,masterpref,tminsuf,hyear)\n",
    "\n",
    "# temparr = temparr.where(mskarr == 1)\n",
    "# tmaxarr = tmaxarr.where(mskarr == 1)\n",
    "# tminarr = tminarr.where(mskarr == 1)\n",
    "\n",
    "# # Generate a vector of lower T bounds to use as metadata and speed up computation\n",
    "# Tlos = np.arange(Tlo,Thi,Tint)\n",
    "\n",
    "# # Preallocate the arrays that will be filled\n",
    "# lldims = (\"latitude\",\"longitude\")\n",
    "# #         lldims = (\"lat\",\"lon\")\n",
    "# coords = [(i,temparr.coords[i].data,temparr.coords[i].attrs) for i in lldims] # Tuples with lat and lon dimension specs\n",
    "\n",
    "# # 2D arrays\n",
    "# tempmean = xr.DataArray(coords = coords, name = \"tempmean\")\n",
    "# tmaxmean = xr.DataArray(coords = coords, name = \"tmaxmean\")\n",
    "# tminmean = xr.DataArray(coords = coords, name = \"tminmean\")\n",
    "\n",
    "# trngmean = xr.DataArray(coords = coords, name = \"trngmean\")\n",
    "\n",
    "# ndayarr = xr.DataArray(coords = coords, name = \"ndays\")\n",
    "\n",
    "# # 2D + tmp arrays\n",
    "# tmp = (\"tmp\",Tlos,{\"long_name\":\"Temperature interval lower bound\",\"units\":\"degC\"})\n",
    "# coords3d = [tmp] + coords\n",
    "# tempdist = xr.DataArray(np.nan, coords = coords3d, name = \"tempdist\")\n",
    "# tempgdds = xr.DataArray(np.nan, coords = coords3d, name = \"tempgdds\")\n",
    "\n",
    "# # This basically creates pointers to the numpy arrays inside the xr.Dataarrays\n",
    "# # We need those for numba to work. An alternative would be passing the .data in the function call\n",
    "# planmat = planarr.data\n",
    "# harvmat = harvarr.data\n",
    "\n",
    "# tempmat = temparr.data\n",
    "# tmaxmat = tmaxarr.data\n",
    "# tminmat = tminarr.data\n",
    "\n",
    "# tempmeanmat = tempmean.data\n",
    "# tmaxmeanmat = tmaxmean.data\n",
    "# tminmeanmat = tminmean.data\n",
    "\n",
    "# trngmeanmat = trngmean.data\n",
    "\n",
    "# ndaymat = ndayarr.data\n",
    "\n",
    "# tempdistmat = tempdist.data\n",
    "# tempgddsmat = tempgdds.data"
   ]
  },
  {
   "cell_type": "code",
   "execution_count": 10,
   "metadata": {},
   "outputs": [],
   "source": [
    "# lati = 440\n",
    "# lonj = 500"
   ]
  },
  {
   "cell_type": "code",
   "execution_count": 11,
   "metadata": {},
   "outputs": [],
   "source": [
    "# plan = int(planmat[lati,lonj])\n",
    "# harv = int(harvmat[lati,lonj])\n",
    "\n",
    "# tempvec = tempmat[plan:harv,lati,lonj]\n",
    "# tmaxvec = tmaxmat[plan:harv,lati,lonj]\n",
    "# tminvec = tminmat[plan:harv,lati,lonj]\n",
    "\n",
    "# tempmeanmat[lati,lonj] = np.nanmean(tempvec)\n",
    "# tmaxmeanmat[lati,lonj] = np.nanmean(tmaxvec)\n",
    "# tminmeanmat[lati,lonj] = np.nanmean(tminvec)\n",
    "# trngmeanmat[lati,lonj] = np.nanmean(tmaxvec - tminvec)\n",
    "# ndaymat[lati,lonj] = np.int64(harv-plan)\n",
    "# #             tempdistmat[:,lati,lonj] = calc_dist_point(tmaxvec,tminvec,Tlos,Tint)\n",
    "# # tempgddsmat[:,lati,lonj] = calc_gdd_point(tmaxvec,tminvec,Tlos)"
   ]
  },
  {
   "cell_type": "code",
   "execution_count": 12,
   "metadata": {},
   "outputs": [],
   "source": [
    "# calc_gdd_point(tmaxvec,tminvec,Tlos)"
   ]
  },
  {
   "cell_type": "code",
   "execution_count": 13,
   "metadata": {},
   "outputs": [],
   "source": [
    "# # Calculates everything.\n",
    "# #         calc_all(planmat,harvmat,tempmat,tmaxmat,tminmat,\n",
    "# #                  tempmeanmat,tmaxmeanmat,tminmeanmat,\n",
    "# #                  trngmeanmat,ndaymat,\n",
    "# #                  tempdistmat,tempgddsmat)\n",
    "#         # Calculates everything.\n",
    "# calc_all_but_tdist(planmat,harvmat,tempmat,tmaxmat,tminmat,\n",
    "#          tempmeanmat,tmaxmeanmat,tminmeanmat,\n",
    "#          trngmeanmat,ndaymat,\n",
    "#          tempgddsmat)\n",
    "\n",
    "\n",
    "# # Merge everything in a single Dataset\n",
    "# #         outdata = xr.merge([tempmean,tmaxmean,tminmean,trngmean,ndayarr,tempdist,tempgdds])\n",
    "# outdata = xr.merge([tempmean,tmaxmean,tminmean,trngmean,ndayarr,tempgdds])\n",
    "# outdata.attrs['Crop'] = crop\n",
    "# outdata.attrs['harvest_year'] = hyear\n",
    "# outdata.attrs['calendar_path'] = calfolder+crop+calsuf\n",
    "# outdata.attrs['climdata_path'] = infolder\n",
    "# #         outdata.attrs['climdata_ex_path'] = infolder+temppref+str(hyear)+\".nc\"\n",
    "\n",
    "# # Write output\n",
    "# outfname = outfolder + crop + \".computed.\" + str(hyear) + \".nc\"\n",
    "# outdata.to_netcdf(outfname,\n",
    "#           engine = \"netcdf4\",\n",
    "#           encoding = {\"tempgdds\":{'zlib': True, 'complevel': 1}} )\n",
    "# #         outdata.to_netcdf(outfname)\n",
    "# #         outdata.to_netcdf(outfname,\n",
    "# #                   engine = \"netcdf4\",\n",
    "# #                   encoding = {\"tempdist\":{'zlib': True, 'complevel': 1},\n",
    "# #                              \"tempgdds\":{'zlib': True, 'complevel': 1}} )"
   ]
  },
  {
   "cell_type": "code",
   "execution_count": 14,
   "metadata": {},
   "outputs": [],
   "source": [
    "# climharr.sel(latitude = -16, longitude = -55, method = \"nearest\").plot()"
   ]
  },
  {
   "cell_type": "code",
   "execution_count": 15,
   "metadata": {},
   "outputs": [],
   "source": [
    "# climsuf = tempsuf\n",
    "# pyear = hyear - 1\n",
    "\n",
    "# climharr = xr.open_dataarray(infolder+masterpref+str(hyear)+climsuf, decode_times = False)\n",
    "# climparr = xr.open_dataarray(infolder+masterpref+str(pyear)+climsuf, decode_times = False)\n",
    "\n",
    "# climarr = xr.concat([climparr,climharr], dim = \"time\")\n",
    "# climarr"
   ]
  },
  {
   "cell_type": "code",
   "execution_count": 16,
   "metadata": {},
   "outputs": [],
   "source": [
    "# These plots are good for understanding the distribution of T during the day\n",
    "# Tl1 = 15\n",
    "# Tl2 = Tl1 + 1\n",
    "# l =(np.invert(np.isnan(\n",
    "#             np.where((T>=Tl1) & (T<=Tl2) ,T,np.nan)\n",
    "#         )))\n",
    "# print(np.sum(l)/nt)\n",
    "\n",
    "# plt.subplot(2, 1, 1)\n",
    "# plt.plot(t,T)\n",
    "# plt.axhline(y=Tl1)\n",
    "# plt.axhline(y=Tl2)\n",
    "# plt.ylim((10,30))\n",
    "# plt.subplot(2, 1, 2)\n",
    "# plt.plot(t,l)\n",
    "# plt.show()\n",
    "\n",
    "# Tmin = 15\n",
    "# Tmax = 25\n",
    "# Tlo = -5.0\n",
    "# Thi = 50.0\n",
    "# Tint = 1.0\n",
    "# plt.subplot(1, 2, 1)\n",
    "# plt.plot(t,T,)\n",
    "# plt.ylim((10,30))\n",
    "# plt.subplot(1, 2, 2)\n",
    "# plt.plot(calc_dist_point(Tmin,Tmax,Tlo,Thi,Tint),Tl1s)\n",
    "# plt.ylim((10,30))\n",
    "# plt.show()"
   ]
  }
 ],
 "metadata": {
  "kernelspec": {
   "display_name": "Python 3",
   "language": "python",
   "name": "python3"
  },
  "language_info": {
   "codemirror_mode": {
    "name": "ipython",
    "version": 3
   },
   "file_extension": ".py",
   "mimetype": "text/x-python",
   "name": "python",
   "nbconvert_exporter": "python",
   "pygments_lexer": "ipython3",
   "version": "3.7.4"
  }
 },
 "nbformat": 4,
 "nbformat_minor": 2
}
