{
 "cells": [
  {
   "cell_type": "markdown",
   "metadata": {},
   "source": [
    "## Interpolates a folder of single-frame Sacks-like calendars to a reference grid"
   ]
  },
  {
   "cell_type": "code",
   "execution_count": 29,
   "metadata": {},
   "outputs": [],
   "source": [
    "from matplotlib import pyplot as plt\n",
    "import numpy as np\n",
    "import pandas as pd\n",
    "import xarray as xr\n",
    "import tqdm\n",
    "import os\n",
    "import re\n",
    "import copy\n",
    "import datetime"
   ]
  },
  {
   "cell_type": "code",
   "execution_count": 30,
   "metadata": {},
   "outputs": [],
   "source": [
    "calname = \"Sacks_ZARC_fill_fill_120d\"\n",
    "infolder = \"calendars_sacks/\"+calname+\"/\"\n",
    "outfolder = \"merra_calendars/\"+calname+\"/\"\n",
    "reffname = \"D:/data/MERRA/MERRA2_300.statD_2d_slv_Nx.20080101.nc4.nc4\"\n",
    "\n",
    "infsuf = \".crop.calendar.fill.nc\"\n",
    "crops = [\"Maize\",\"Soybeans\",\"Cotton\"]"
   ]
  },
  {
   "cell_type": "code",
   "execution_count": 31,
   "metadata": {},
   "outputs": [],
   "source": [
    "# Create output folder if it doesn't exist\n",
    "if not os.path.exists(outfolder): os.makedirs(outfolder, exist_ok=True)"
   ]
  },
  {
   "cell_type": "code",
   "execution_count": 32,
   "metadata": {},
   "outputs": [
    {
     "name": "stdout",
     "output_type": "stream",
     "text": [
      "<xarray.DataArray 'T2MMEAN' (time: 1, lat: 302, lon: 559)>\n",
      "[168818 values with dtype=float32]\n",
      "Coordinates:\n",
      "  * lat      (lat) float64 -62.0 -61.5 -61.0 -60.5 -60.0 ... 87.0 87.5 88.0 88.5\n",
      "  * lon      (lon) float64 -175.0 -174.4 -173.8 -173.1 ... 172.5 173.1 173.8\n",
      "  * time     (time) datetime64[ns] 2008-01-01T12:00:00\n",
      "Attributes:\n",
      "    long_name:       2-meter_air_temperature\n",
      "    units:           K\n",
      "    fmissing_value:  1000000000000000.0\n",
      "    standard_name:   2-meter_air_temperature\n",
      "    vmax:            1000000000000000.0\n",
      "    vmin:            -1000000000000000.0\n",
      "    valid_range:     [-1.e+15  1.e+15]\n",
      "    origname:        T2MMEAN\n",
      "    fullnamepath:    /T2MMEAN\n"
     ]
    }
   ],
   "source": [
    "# Open reference array\n",
    "# refarr = xr.open_dataarray(reffname)\n",
    "refds = xr.open_dataset(reffname)\n",
    "refarr = refds[\"T2MMEAN\"]\n",
    "print(refarr)"
   ]
  },
  {
   "cell_type": "code",
   "execution_count": 33,
   "metadata": {},
   "outputs": [],
   "source": [
    "# Loop here\n",
    "for crop in crops:\n",
    "    # Open the dataset\n",
    "    infname = infolder + crop + infsuf\n",
    "    inarr = xr.open_dataset(infname)\n",
    "    \n",
    "    # Rename coordinates\n",
    "    inarr = inarr.rename({\"latitude\":\"lat\", \"longitude\":\"lon\"})\n",
    "\n",
    "    #Actual interpolation\n",
    "#     outarr = inarr.interp(latitude=refarr['latitude'],longitude=refarr['longitude'],method = 'nearest')\n",
    "    outarr = inarr.interp(lat=refarr['lat'],lon=refarr['lon'],method = 'nearest')\n",
    "\n",
    "    # Output\n",
    "    outfname = outfolder + crop + infsuf\n",
    "    outarr.to_netcdf(outfname)"
   ]
  },
  {
   "cell_type": "code",
   "execution_count": null,
   "metadata": {},
   "outputs": [],
   "source": []
  }
 ],
 "metadata": {
  "kernelspec": {
   "display_name": "Python 3",
   "language": "python",
   "name": "python3"
  },
  "language_info": {
   "codemirror_mode": {
    "name": "ipython",
    "version": 3
   },
   "file_extension": ".py",
   "mimetype": "text/x-python",
   "name": "python",
   "nbconvert_exporter": "python",
   "pygments_lexer": "ipython3",
   "version": "3.7.4"
  }
 },
 "nbformat": 4,
 "nbformat_minor": 2
}
