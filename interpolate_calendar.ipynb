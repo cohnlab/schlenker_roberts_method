{
 "cells": [
  {
   "cell_type": "markdown",
   "metadata": {},
   "source": [
    "## Interpolates a folder of single-frame Sacks-like calendars to a reference grid"
   ]
  },
  {
   "cell_type": "code",
   "execution_count": 1,
   "metadata": {},
   "outputs": [],
   "source": [
    "from matplotlib import pyplot as plt\n",
    "import numpy as np\n",
    "import pandas as pd\n",
    "import xarray as xr\n",
    "import tqdm\n",
    "import os\n",
    "import re\n",
    "import copy\n",
    "import datetime"
   ]
  },
  {
   "cell_type": "code",
   "execution_count": 2,
   "metadata": {},
   "outputs": [],
   "source": [
    "infolder = \"calendars_sacks/\"\n",
    "outfolder = \"calendars_sacks_interp/\"\n",
    "reffname = \"xavier/tmax.daily.2000.nc\"\n",
    "\n",
    "infsuf = \".crop.calendar.fill.nc\"\n",
    "crops = [\"Maize\",\"Soybeans\",\"Rice\",\"Wheat\"]"
   ]
  },
  {
   "cell_type": "code",
   "execution_count": 3,
   "metadata": {},
   "outputs": [],
   "source": [
    "# Create output folder if it doesn't exist\n",
    "if not os.path.exists(outfolder): os.makedirs(outfolder, exist_ok=True)"
   ]
  },
  {
   "cell_type": "code",
   "execution_count": 4,
   "metadata": {},
   "outputs": [],
   "source": [
    "# Open reference array\n",
    "refarr = xr.open_dataarray(reffname)"
   ]
  },
  {
   "cell_type": "code",
   "execution_count": 5,
   "metadata": {},
   "outputs": [],
   "source": [
    "# Loop here\n",
    "for crop in crops:\n",
    "    # Open the dataset\n",
    "    infname = infolder + crop + infsuf\n",
    "    inarr = xr.open_dataset(infname)\n",
    "\n",
    "    #Actual interpolation\n",
    "    outarr = inarr.interp(latitude=refarr['latitude'],longitude=refarr['longitude'],method = 'nearest')\n",
    "\n",
    "    # Output\n",
    "    outfname = outfolder + crop + infsuf\n",
    "    outarr.to_netcdf(outfname)"
   ]
  }
 ],
 "metadata": {
  "kernelspec": {
   "display_name": "Python 3",
   "language": "python",
   "name": "python3"
  },
  "language_info": {
   "codemirror_mode": {
    "name": "ipython",
    "version": 3
   },
   "file_extension": ".py",
   "mimetype": "text/x-python",
   "name": "python",
   "nbconvert_exporter": "python",
   "pygments_lexer": "ipython3",
   "version": "3.7.4"
  }
 },
 "nbformat": 4,
 "nbformat_minor": 2
}
