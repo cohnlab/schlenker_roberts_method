{
 "cells": [
  {
   "cell_type": "markdown",
   "metadata": {},
   "source": [
    "## Interpolates a folder of single-frame Sacks-like calendars to a reference grid"
   ]
  },
  {
   "cell_type": "code",
   "execution_count": 1,
   "metadata": {},
   "outputs": [],
   "source": [
    "from matplotlib import pyplot as plt\n",
    "import numpy as np\n",
    "import pandas as pd\n",
    "import xarray as xr\n",
    "import tqdm\n",
    "import os\n",
    "import re\n",
    "import copy\n",
    "import datetime"
   ]
  },
  {
   "cell_type": "code",
   "execution_count": 2,
   "metadata": {},
   "outputs": [],
   "source": [
    "calname = \"Sacks_ZARC_fill_fill_120d\"\n",
    "infolder = \"calendars_sacks/\"+calname+\"/\"\n",
    "outfolder = \"bcagcfsr_calendars/\"+calname+\"/\"\n",
    "reffname = \"D:/data/bcAgCFSR/regrid/bcAgCFSR_tavg_2001.nc4\"\n",
    "\n",
    "infsuf = \".crop.calendar.fill.nc\"\n",
    "crops = [\"Maize\",\"Soybeans\",\"Cotton\"]"
   ]
  },
  {
   "cell_type": "code",
   "execution_count": 3,
   "metadata": {},
   "outputs": [],
   "source": [
    "# Create output folder if it doesn't exist\n",
    "if not os.path.exists(outfolder): os.makedirs(outfolder, exist_ok=True)"
   ]
  },
  {
   "cell_type": "code",
   "execution_count": 4,
   "metadata": {},
   "outputs": [
    {
     "name": "stdout",
     "output_type": "stream",
     "text": [
      "<xarray.DataArray 'tavg' (time: 365, lat: 360, lon: 720)>\n",
      "[94608000 values with dtype=float32]\n",
      "Coordinates:\n",
      "  * time     (time) float32 7671.0 7672.0 7673.0 7674.0 ... 8033.0 8034.0 8035.0\n",
      "  * lon      (lon) float32 -179.75 -179.25 -178.75 ... 178.75 179.25 179.75\n",
      "  * lat      (lat) float32 -89.75 -89.25 -88.75 -88.25 ... 88.75 89.25 89.75\n",
      "Attributes:\n",
      "    units:               Degrees Celsius\n",
      "    description:         Average Temperature\n",
      "    vMin_original_data:  -72.3\n",
      "    vMax_original_data:  43.1\n",
      "    vRange:              115.4\n"
     ]
    }
   ],
   "source": [
    "# Open reference array\n",
    "# refarr = xr.open_dataarray(reffname)\n",
    "refds = xr.open_dataset(reffname, decode_times = False)\n",
    "refarr = refds[\"tavg\"]\n",
    "print(refarr)"
   ]
  },
  {
   "cell_type": "code",
   "execution_count": 6,
   "metadata": {},
   "outputs": [],
   "source": [
    "# Loop here\n",
    "for crop in crops:\n",
    "    # Open the dataset\n",
    "    infname = infolder + crop + infsuf\n",
    "    inarr = xr.open_dataset(infname)\n",
    "    \n",
    "    # Rename coordinates\n",
    "    inarr = inarr.rename({\"latitude\":\"lat\", \"longitude\":\"lon\"})\n",
    "\n",
    "    #Actual interpolation\n",
    "#     outarr = inarr.interp(latitude=refarr['latitude'],longitude=refarr['longitude'],method = 'nearest')\n",
    "    outarr = inarr.interp(lat=refarr['lat'],lon=refarr['lon'],method = 'nearest')\n",
    "\n",
    "    # Output\n",
    "    outfname = outfolder + crop + infsuf\n",
    "    outarr.to_netcdf(outfname)"
   ]
  },
  {
   "cell_type": "code",
   "execution_count": null,
   "metadata": {},
   "outputs": [],
   "source": []
  }
 ],
 "metadata": {
  "kernelspec": {
   "display_name": "Python 3",
   "language": "python",
   "name": "python3"
  },
  "language_info": {
   "codemirror_mode": {
    "name": "ipython",
    "version": 3
   },
   "file_extension": ".py",
   "mimetype": "text/x-python",
   "name": "python",
   "nbconvert_exporter": "python",
   "pygments_lexer": "ipython3",
   "version": "3.7.4"
  }
 },
 "nbformat": 4,
 "nbformat_minor": 2
}
